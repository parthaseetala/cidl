{
  "cells": [
    {
      "cell_type": "markdown",
      "source": [
        "# **Using LSTM to understand news articles and completing sentences**\n",
        "\n",
        "#### **Author: Partha Seetala**\n",
        "\n",
        "**Video Tutorial: https://www.youtube.com/watch?v=IVTZ-v4qURY**"
      ],
      "metadata": {
        "id": "g_sewnifAHQR"
      },
      "id": "g_sewnifAHQR"
    },
    {
      "cell_type": "code",
      "source": [
        "!pip install requests readability-lxml beautifulsoup4\n",
        "\n",
        "import nltk\n",
        "nltk.download('punkt')\n",
        "nltk.download('punkt_tab')\n",
        "\n",
        "import argparse\n",
        "import requests\n",
        "from readability import Document\n",
        "from bs4 import BeautifulSoup\n",
        "import numpy as np\n",
        "from nltk.tokenize import sent_tokenize\n",
        "import tensorflow as tf\n",
        "\n",
        "from tensorflow import keras\n",
        "from tensorflow.keras import layers\n",
        "from tensorflow.keras.utils import to_categorical\n",
        "from tensorflow.keras.preprocessing.text import Tokenizer\n",
        "from tensorflow.keras.preprocessing.sequence import pad_sequences\n",
        "from tensorflow.keras.models import Sequential\n",
        "from tensorflow.keras.layers import Embedding, LSTM, Dense"
      ],
      "metadata": {
        "id": "hha7gpUpOJZz",
        "colab": {
          "base_uri": "https://localhost:8080/"
        },
        "outputId": "887d7b58-2153-4856-a262-c8459e50e233"
      },
      "id": "hha7gpUpOJZz",
      "execution_count": null,
      "outputs": [
        {
          "output_type": "stream",
          "name": "stdout",
          "text": [
            "Requirement already satisfied: requests in /usr/local/lib/python3.11/dist-packages (2.32.3)\n",
            "Collecting readability-lxml\n",
            "  Downloading readability_lxml-0.8.4.1-py3-none-any.whl.metadata (4.0 kB)\n",
            "Requirement already satisfied: beautifulsoup4 in /usr/local/lib/python3.11/dist-packages (4.13.4)\n",
            "Requirement already satisfied: charset-normalizer<4,>=2 in /usr/local/lib/python3.11/dist-packages (from requests) (3.4.2)\n",
            "Requirement already satisfied: idna<4,>=2.5 in /usr/local/lib/python3.11/dist-packages (from requests) (3.10)\n",
            "Requirement already satisfied: urllib3<3,>=1.21.1 in /usr/local/lib/python3.11/dist-packages (from requests) (2.4.0)\n",
            "Requirement already satisfied: certifi>=2017.4.17 in /usr/local/lib/python3.11/dist-packages (from requests) (2025.4.26)\n",
            "Requirement already satisfied: chardet in /usr/local/lib/python3.11/dist-packages (from readability-lxml) (5.2.0)\n",
            "Requirement already satisfied: lxml[html_clean] in /usr/local/lib/python3.11/dist-packages (from readability-lxml) (5.4.0)\n",
            "Collecting cssselect (from readability-lxml)\n",
            "  Downloading cssselect-1.3.0-py3-none-any.whl.metadata (2.6 kB)\n",
            "Requirement already satisfied: soupsieve>1.2 in /usr/local/lib/python3.11/dist-packages (from beautifulsoup4) (2.7)\n",
            "Requirement already satisfied: typing-extensions>=4.0.0 in /usr/local/lib/python3.11/dist-packages (from beautifulsoup4) (4.13.2)\n",
            "Collecting lxml_html_clean (from lxml[html_clean]->readability-lxml)\n",
            "  Downloading lxml_html_clean-0.4.2-py3-none-any.whl.metadata (2.4 kB)\n",
            "Downloading readability_lxml-0.8.4.1-py3-none-any.whl (19 kB)\n",
            "Downloading cssselect-1.3.0-py3-none-any.whl (18 kB)\n",
            "Downloading lxml_html_clean-0.4.2-py3-none-any.whl (14 kB)\n",
            "Installing collected packages: lxml_html_clean, cssselect, readability-lxml\n",
            "Successfully installed cssselect-1.3.0 lxml_html_clean-0.4.2 readability-lxml-0.8.4.1\n"
          ]
        },
        {
          "output_type": "stream",
          "name": "stderr",
          "text": [
            "[nltk_data] Downloading package punkt to /root/nltk_data...\n",
            "[nltk_data]   Unzipping tokenizers/punkt.zip.\n",
            "[nltk_data] Downloading package punkt_tab to /root/nltk_data...\n",
            "[nltk_data]   Unzipping tokenizers/punkt_tab.zip.\n"
          ]
        }
      ]
    },
    {
      "cell_type": "markdown",
      "source": [
        "## Download a new article from the internet (our training dataset)"
      ],
      "metadata": {
        "id": "Ta72f-YnRIEl"
      },
      "id": "Ta72f-YnRIEl"
    },
    {
      "cell_type": "code",
      "source": [
        "def fetch_article_text(url):\n",
        "    # 1. Download the page\n",
        "    resp = requests.get(url)\n",
        "    resp.raise_for_status()\n",
        "\n",
        "    # 2. Use readability to isolate the main article HTML\n",
        "    doc = Document(resp.text)\n",
        "    article_html = doc.summary()\n",
        "\n",
        "    # 3. Parse with BeautifulSoup and remove unwanted tags\n",
        "    soup = BeautifulSoup(article_html, 'html.parser')\n",
        "    for tag in soup(['script', 'style', 'header', 'footer', 'nav', 'aside']):\n",
        "        tag.decompose()\n",
        "\n",
        "    # 4. Get plain text, collapse multiple blank lines\n",
        "    text = soup.get_text(separator='\\n')\n",
        "    lines = [line.strip() for line in text.splitlines() if line.strip()]\n",
        "    return '\\n'.join(lines)\n",
        "\n",
        "\n",
        "url = 'https://www.whitehouse.gov/briefings-statements/2025/02/united-states-india-joint-leaders-statement/'\n",
        "training_text = fetch_article_text(url)\n",
        "print(training_text)"
      ],
      "metadata": {
        "colab": {
          "base_uri": "https://localhost:8080/"
        },
        "collapsed": true,
        "id": "51MK2W2hOQRQ",
        "outputId": "b1823640-00a5-497a-8e8f-89e919afcf3a"
      },
      "id": "51MK2W2hOQRQ",
      "execution_count": null,
      "outputs": [
        {
          "output_type": "stream",
          "name": "stdout",
          "text": [
            "United States-India Joint Leaders’ Statement\n",
            "The President of the United States of America, The Honorable Donald J. Trump hosted the Prime Minister of India, Shri Narendra Modi for an Official Working Visit in Washington, DC on February 13, 2025.\n",
            "As the leaders of sovereign and vibrant democracies that value freedom, the rule of law, human rights, and pluralism, President Trump and Prime Minister Modi reaffirmed the strength of the India-U.S. Comprehensive Global Strategic Partnership, anchored in mutual trust, shared interests, goodwill and robust engagement of their citizens.\n",
            "Today, President Trump and Prime Minister Modi launched a new initiative – the\n",
            "“U.S.-India COMPACT (Catalyzing Opportunities for Military Partnership, Accelerated Commerce & Technology) for the 21st Century”\n",
            "– to drive transformative change across key pillars of cooperation. Under this initiative, they committed to a results-driven agenda with initial outcomes this year to demonstrate the level of trust for a mutually beneficial partnership.\n",
            "Defense\n",
            "1.    Highlighting the deepening convergence of U.S.-India strategic interests, the leaders reaffirmed their unwavering commitment to a dynamic defense partnership spanning multiple domains. To advance defense ties further, the leaders announced plans to sign this year a new ten-year\n",
            "Framework for the U.S.-India Major Defense Partnership in the 21st Century.\n",
            "2.    The leaders welcomed the significant integration of U.S.-origin defense items into India’s inventory to date, including C‑130J Super Hercules, C‑17 Globemaster III, P‑8I Poseidon aircraft; CH‑47F Chinooks, MH‑60R Seahawks, and AH‑64E Apaches; Harpoon anti-ship missiles; M777 howitzers; and MQ‑9Bs.  The leaders determined that the U.S. would expand defense sales and co-production with India to strengthen interoperability and defense industrial cooperation.  They announced plans to pursue this year new procurements and co-production arrangements for “Javelin” Anti-Tank Guided Missiles and “Stryker” Infantry Combat Vehicles in India to rapidly meet India’s defense requirements. They also expect completion of procurement for six additional P-8I Maritime Patrol aircraft to enhance India’s maritime surveillance reach in the Indian Ocean Region following agreement on sale terms.\n",
            "3.    Recognizing that India is a Major Defense Partner with Strategic Trade Authorization-1 (STA‑1) authorization and a key Quad partner, the U.S. and India will review their respective arms transfer regulations, including International Traffic in Arms Regulations (ITAR), in order to streamline defense trade, technology exchange and maintenance, spare supplies and in-country repair and overhaul of U.S.-provided defense systems. The leaders also called for opening negotiations this year for a Reciprocal Defense Procurement (RDP) agreement to better align their procurement systems and enable the reciprocal supply of defense goods and services. The leaders pledged to accelerate defense technology cooperation across space, air defense, missile, maritime and undersea technologies, with the U.S. announcing a review of its policy on releasing fifth generation fighters and undersea systems to India.\n",
            "4.    Building on the U.S.-India Roadmap for Defense Industrial Cooperation and recognizing the rising importance of autonomous systems, the leaders announced a new initiative – the\n",
            "Autonomous Systems Industry Alliance (ASIA)\n",
            "– to scale industry partnerships and production in the Indo-Pacific.  The leaders welcomed a new partnership between Anduril Industries and Mahindra Group on advanced autonomous technologies to co-develop and co-produce state-of-the-art maritime systems and advanced AI-enabled counter Unmanned Aerial System (UAS) to strengthen regional security, and between L3 Harris and Bharat Electronics for co-development of active towed array systems.\n",
            "5.    The leaders also pledged to elevate military cooperation across all domains – air, land, sea, space, and cyberspace – through enhanced training, exercises, and operations, incorporating the latest technologies.  The leaders welcomed the forthcoming “Tiger Triumph” tri-service exercise (first inaugurated in 2019) with larger scale and complexity to be hosted in India.\n",
            "6.    Finally, the leaders committed to break new ground to support and sustain the overseas deployments of the U.S. and Indian militaries in the Indo-Pacific, including enhanced logistics and intelligence sharing, as well as arrangements to improve force mobility for joint humanitarian and disaster relief operations along with other exchanges and security cooperation engagements.\n",
            "Trade and Investment\n",
            "7.    The leaders resolved to expand trade and investment to make their citizens more prosperous, nations stronger, economies more innovative and supply chains more resilient.  They resolved to deepen the U.S.-India trade relationship to promote growth that ensures fairness, national security and job creation.  To this end, the leaders set a bold new goal for bilateral trade –\n",
            "“Mission 500”\n",
            "– aiming to more than double total bilateral trade to $500 billion by 2030.\n",
            "8.    Recognizing that this level of ambition would require new, fair-trade terms, the leaders announced plans to negotiate the first tranche of a mutually beneficial, multi-sector\n",
            "Bilateral Trade Agreement (BTA)\n",
            "by fall of 2025. The leaders committed to designate senior representatives to advance these negotiations and to ensure that the trade relationship fully reflects the aspirations of the COMPACT. To advance this innovative, wide-ranging BTA, the U.S. and India will take an integrated approach to strengthen and deepen bilateral trade across the goods and services sector, and will work towards increasing market access, reducing tariff and non-tariff barriers, and deepening supply chain integration.\n",
            "9.    The leaders welcomed early steps to demonstrate mutual commitment to address bilateral trade barriers. The United States welcomed India’s recent measures to lower tariffs on U.S. products of interest in the areas of bourbon, motorcycles, ICT products and metals, as well as measures to enhance market access for U.S. agricultural products, like alfalfa hay and duck meat, and medical devices.  India also expressed appreciation for U.S. measures taken to enhance exports of Indian mangoes and pomegranates to the United States.  Both sides also pledged to collaborate to enhance bilateral trade by increasing U.S. exports of industrial goods to India and Indian exports of labor-intensive manufactured products to the United States. The two sides will also work together to increase trade in agricultural goods.\n",
            "10.    Finally, the leaders committed to drive opportunities for U.S. and Indian companies to make greenfield investments in high-value industries in each other’s countries.  In this regard, the leaders welcomed ongoing investments by Indian companies worth approximately $7.35 billion, such as those by Hindalco’s Novelis in finished aluminum goods at their state-of-the art facilities in Alabama and Kentucky; JSW in steel manufacturing operations at Texas and Ohio; Epsilon Advanced Materials in the manufacture of critical battery materials in North Carolina; and Jubilant Pharma in the manufacture of injectables in Washington. These investments support over 3,000 high-quality jobs for local families.\n",
            "Energy Security\n",
            "11.    The leaders agreed that energy security is fundamental to economic growth, social well-being and technical innovation in both countries. They underscored the importance of U.S.-India collaboration to ensure energy affordability, reliability, and availability and stable energy markets. Realizing the consequential role of the U.S. and India, as leading producers and consumers, in driving the global energy landscape, the leaders re-committed to the U.S.-India Energy Security Partnership, including in oil, gas, and civil nuclear energy.\n",
            "12.    The leaders underscored the importance of enhancing the production of hydrocarbons to ensure better global energy prices and secure affordable and reliable energy access for their citizens. The leaders also underscored the value of strategic petroleum reserves to preserve economic stability during crises and resolved to work with key partners to expand strategic oil reserve arrangements.  In this context, the U.S. side affirmed its firm support for India to join the International Energy Agency as a full member.\n",
            "13.    The leaders reaffirmed their commitment to increase energy trade, as part of efforts to ensure energy security, and to establish the United States as a leading supplier of crude oil and petroleum products and liquified natural gas to India, in line with the growing needs and priorities of our dynamic economies. They underscored the tremendous scope and opportunity to increase trade in the hydrocarbon sector including natural gas, ethane and petroleum products as part of efforts to ensure supply diversification and energy security. The leaders committed to enhance investments, particularly in oil and gas infrastructure, and facilitate greater cooperation between the energy companies of the two countries.\n",
            "14.    The leaders announced their commitment to fully realize the U.S.-India 123 Civil Nuclear Agreement by moving forward with plans to work together to build U.S.-designed nuclear reactors in India through large scale localization and possible technology transfer. Both sides welcomed the recent Budget announcement by Government of India to take up amendments to the Atomic Energy Act and the Civil Liability for Nuclear Damage Act (CLNDA) for nuclear reactors and further decided to establish bilateral arrangements in accordance with CLNDA, that would address the issue of civil liability and facilitate the collaboration of Indian and U.S. industry in the production and deployment of nuclear reactors. This path forward will unlock plans to build large U.S.-designed reactors and enable collaboration to develop, deploy and scale up nuclear power generation with advanced small modular reactors.\n",
            "Technology and Innovation\n",
            "15.    The leaders announced the launch of the\n",
            "U.S.-India TRUST\n",
            "(“Transforming the Relationship Utilizing Strategic Technology”) initiative, which will catalyze government-to-government, academia and private sector collaboration to promote application of critical and emerging technologies in areas like defense, artificial intelligence, semiconductors, quantum, biotechnology, energy and space, while encouraging the use of verified technology vendors and ensuring sensitive technologies are protected.\n",
            "16.    As a central pillar of the “TRUST” initiative, the leaders committed to work with U.S. and Indian private industry to put forward a\n",
            "U.S.-India Roadmap on Accelerating AI Infrastructure\n",
            "by the end of the year, identifying constraints to financing, building, powering, and connecting large-scale U.S.-origin AI infrastructure in India with milestones and future actions.  The U.S. and India will work together to enable industry partnerships and investments in next generation data centers, cooperation on development and access to compute and processors for AI, for innovations in AI models and building AI applications for solving societal challenges while addressing the protections and controls necessary to protect these technologies and reduce regulatory barriers.\n",
            "17.    The leaders announced the launch of\n",
            "INDUS Innovation,\n",
            "a new innovation bridge modeled after the successful INDUS-X platform, that will advance U.S.-India industry and academic partnerships and foster investments in space, energy, and other emerging technologies to maintain U.S. and India leadership in innovation and to meet the needs of the 21st century.  The leaders also reinforced their commitment to the INDUS-X initiative, which facilities partnerships between U.S. and Indian defense companies, investors and universities to produce critical capability for our militaries and welcomed the next summit in 2025.\n",
            "18.    The leaders also committed, as part of the TRUST initiative, to build trusted and resilient supply chains, including for semiconductors, critical minerals, advanced materials and pharmaceuticals. As part of this effort, the leaders plan to encourage public and private investments to expand Indian manufacturing capacity, including in the U.S., for active pharmaceutical ingredients for critical medicines. These investments will create good jobs, diversify vital supply chains, and reduce the risk of life-saving drug shortages in both the United States and India.\n",
            "19.    Recognizing the strategic importance of critical minerals for emerging technologies and advanced manufacturing, India and the United States will accelerate collaboration in research and development and promote investment across the entire critical mineral value chain, as well as through the Mineral Security Partnership, of which both the United States and India are members. Both countries have committed to intensifying efforts to deepen cooperation in the exploration, beneficiation, and processing as well as recycling technologies of critical minerals. To this end, the leaders announced the launch of the Strategic Mineral Recovery initiative, a new U.S.-India program to recover and process critical minerals (including lithium, cobalt, and rare earths) from heavy industries like aluminum, coal mining and oil and gas.\n",
            "20.    The leaders hailed 2025 as a pioneering year for U.S.-India civil space cooperation, with plans for a NASA-ISRO effort through AXIOM to bring the first Indian astronaut to the International Space Station (ISS), and early launch of the joint “NISAR” mission, the first of its kind to systematically map changes to the Earth’s surface using dual radars.  The leaders called for more collaboration in space exploration, including on long duration human spaceflight missions, spaceflight safety and sharing of expertise and professional exchanges in emerging areas, including planetary protection. The leaders committed to further commercial space collaboration through industry engagements in conventional and emerging areas, such as connectivity, advanced spaceflight, satellite and space launch systems, space sustainability, space tourism and advanced space manufacturing.\n",
            "21.    The leaders underscored the value of deepening ties between the U.S. and Indian scientific research communities, announcing\n",
            "a new partnership between the U.S. National Science Foundation and the Indian Anusandhan National Research Foundation\n",
            "in researching critical and emerging technologies.  This partnership builds on ongoing collaboration between the U.S. National Science Foundation and several Indian science agencies to enable joint research in the areas of semiconductors, connected vehicles, machine learning, next-generation telecommunications, intelligent transportation systems, and future biomanufacturing.\n",
            "22.    The leaders determined that their governments redouble efforts to address export controls, enhance high technology commerce, and reduce barriers to technology transfer between our two countries, while addressing technology security.  The leaders also resolved to work together to counter the common challenge of unfair practices in export controls by third parties seeking to exploit overconcentration of critical supply chains.\n",
            "Multilateral Cooperation\n",
            "23.    The leaders reaffirmed that a close partnership between the U.S. and India is central to a free, open, peaceful and prosperous Indo-Pacific region. As Quad partners, the leaders reiterated that this partnership is underpinned by the recognition of ASEAN centrality; adherence to international law and good governance; support for safety and freedom of navigation, overflight and other lawful uses of the seas; and unimpeded lawful commerce; and advocacy for peaceful resolution of maritime disputes in accordance with international law.\n",
            "24.    Prime Minister Modi looks forward to hosting President Trump in New Delhi for the Quad leaders’ Summit, ahead of which the leaders will activate new Quad initiatives on shared airlift capacity to support civilian response to natural disasters and maritime patrols to improve interoperability.\n",
            "25.    The leaders resolved to increase cooperation, enhance diplomatic consultations, and increase tangible collaboration with partners in the Middle East. They highlighted the importance of investing in critical infrastructure and economic corridors to advancing peace and security in the region.  The leaders plan to convene partners from the India-Middle East-Europe Corridor and the I2U2 Group within the next six months in order to announce new initiatives in 2025.\n",
            "26.    The US appreciates India’s role as a developmental, humanitarian assistance and net security provider in the Indian Ocean Region. In this context, the leaders committed to deepen bilateral dialogue and cooperation across the vast Indian Ocean region and launched the\n",
            "Indian Ocean Strategic Venture\n",
            ", a new bilateral, whole-of-government forum to advance coordinated investments in economic connectivity and commerce. Supporting greater Indian Ocean connectivity, the leaders also welcomed Meta’s announcement of a multi-billion, multi-year investment in an undersea cable project that will begin work this year and ultimately stretch over 50,000 km to connect five continents and strengthen global digital highways in the Indian Ocean region and beyond. India intends to invest in maintenance, repair and financing of undersea cables in the Indian Ocean, using trusted vendors.\n",
            "27.    The leaders recognized the need to build new plurilateral anchor partnerships in the Western Indian Ocean, Middle East, and Indo-Pacific to grow relationships, commerce and cooperation across defense, technology, energy and critical minerals.  The leaders expect to announce new partnership initiatives across these sub-regions by fall of 2025.\n",
            "28.    The leaders also resolved to advance military cooperation in multinational settings to advance global peace and security. The leaders applauded India’s decision to take on a future leadership role in the Combined Maritime Forces naval task force to help secure sea lanes in the Arabian Sea.\n",
            "29.    The leaders reaffirmed that the global scourge of terrorism must be fought, and terrorist safe havens eliminated from every corner of the world.  They committed to strengthen cooperation against terrorist threats from groups, including Al-Qa’ida, ISIS, Jaish-e-Mohammad, and Lashkar-e-Tayyiba in order to prevent heinous acts like the attacks in Mumbai on 26/11 and the Abbey Gate bombing in Afghanistan on August 26, 2021.  Recognizing a shared desire to bring to justice those who would harm our citizens, the U.S. announced that the extradition to India of Tahawwur Rana has been approved. The leaders further called on Pakistan to expeditiously bring to justice the perpetrators of the 26/11 Mumbai, and Pathankot attacks and ensure that its territory is not used to carry out cross-border terrorist attacks.  The leaders also pledged to work together to prevent proliferation of weapons of mass destruction and their delivery systems and to deny access to such weapons by terrorists and non-state actors.\n",
            "People to People Cooperation\n",
            "30.    President Trump and Prime Minister Modi noted the importance of advancing the people-to-people ties between the two countries. In this context, they noted that the more than 300,000 strong Indian student community contributes over $8 billion annually to the U.S. economy and helped create a number of direct and indirect jobs. They recognized that the talent flow and movement of students, researchers and employees, has mutually benefitted both countries. Recognizing the importance of international academic collaborations in fostering innovation, improving learning outcomes and development of a future-ready workforce, both leaders resolved to strengthen collaborations between the higher education institutions through efforts such as joint/dual degree and twinning programs, establishing joint Centers of Excellence, and setting up of offshore campuses of premier educational institutions of the U.S. in India.\n",
            "31.    Both leaders emphasized that the evolution of the world into a global workplace calls for putting in place innovative, mutually advantageous and secure mobility frameworks. In this regard, the leaders committed to streamlining avenues for legal mobility of students and professionals, and facilitating short-term tourist and business travel, while also aggressively addressing illegal immigration and human trafficking by taking strong action against bad actors, criminal facilitators, and illegal immigration networks to promote mutual security for both countries.\n",
            "32.    The leaders also committed to strengthen law enforcement cooperation to take decisive action against illegal immigration networks, organized crime syndicates, including narco-terrorists human and arms traffickers, as well as other elements who threaten public and diplomatic safety and security, and the sovereignty and territorial integrity of both nations.\n",
            "33.    President Trump and Prime Minister Modi pledged to sustain high-level engagement between our governments, industries, and academic institutions and realize their ambitious vision for an enduring India-U.S. partnership that advances the aspirations of our people for a bright and prosperous future, serves the global good, and contributes to a free and open Indo-Pacific.\n"
          ]
        }
      ]
    },
    {
      "cell_type": "markdown",
      "source": [
        "## Break long article into individual sentences and Tokenize the text"
      ],
      "metadata": {
        "id": "fWTP4S218u4i"
      },
      "id": "fWTP4S218u4i"
    },
    {
      "cell_type": "code",
      "source": [
        "sentences = sent_tokenize(training_text)\n",
        "\n",
        "MAX_SENTENCE_LENGTH = 30\n",
        "for sentence in sentences:\n",
        "    MAX_SENTENCE_LENGTH = max(MAX_SENTENCE_LENGTH, len(sentence.split()))\n",
        "\n",
        "print(\"Max sentence length: \", MAX_SENTENCE_LENGTH)\n",
        "\n",
        "\n",
        "tokenizer = Tokenizer()\n",
        "tokenizer.fit_on_texts([training_text])\n",
        "total_words = len(tokenizer.word_index) + 1\n",
        "print(\"Total number of unique tokens: \", total_words)\n",
        "print(\"Tokens: \", tokenizer.word_index)"
      ],
      "metadata": {
        "colab": {
          "base_uri": "https://localhost:8080/"
        },
        "id": "T2wnjdxF8ziN",
        "outputId": "0655b2f8-b6d5-481c-b09b-94c092a1fd21"
      },
      "id": "T2wnjdxF8ziN",
      "execution_count": null,
      "outputs": [
        {
          "output_type": "stream",
          "name": "stdout",
          "text": [
            "Max sentence length:  68\n",
            "Total number of unique tokens:  1050\n",
            "Tokens:  {'and': 1, 'the': 2, 'to': 3, 'of': 4, 'in': 5, 'leaders': 6, 's': 7, 'u': 8, 'india': 9, 'for': 10, 'a': 11, '\\xa0\\xa0': 12, '\\xa0the': 13, 'as': 14, 'indian': 15, 'that': 16, 'defense': 17, 'cooperation': 18, 'this': 19, 'energy': 20, 'new': 21, 'with': 22, 'trade': 23, 'on': 24, 'also': 25, 'security': 26, 'partnership': 27, 'committed': 28, 'their': 29, 'by': 30, 'critical': 31, 'including': 32, 'will': 33, 'space': 34, 'between': 35, 'technology': 36, 'systems': 37, 'technologies': 38, 'united': 39, 'states': 40, 'strategic': 41, 'year': 42, 'announced': 43, 'welcomed': 44, 'bilateral': 45, 'work': 46, 'investments': 47, 'both': 48, 'collaboration': 49, 'global': 50, 'initiative': 51, '–': 52, 'across': 53, 'ocean': 54, 'advanced': 55, 'countries': 56, 'they': 57, 'advance': 58, 'strengthen': 59, 'maritime': 60, 'enhance': 61, 'supply': 62, 'importance': 63, 'industry': 64, 'resolved': 65, 'nuclear': 66, 'trump': 67, 'minister': 68, 'modi': 69, '2025': 70, 'plans': 71, 'india’s': 72, 'region': 73, 'international': 74, 'ai': 75, 'through': 76, 'well': 77, 'more': 78, 'ensure': 79, 'products': 80, 'innovation': 81, 'our': 82, 'emerging': 83, 'prime': 84, 'value': 85, 'reaffirmed': 86, 'commerce': 87, 'commitment': 88, 'co': 89, 'production': 90, 'is': 91, 'goods': 92, 'pledged': 93, 'scale': 94, 'partnerships': 95, 'indo': 96, 'pacific': 97, 'support': 98, 'joint': 99, 'these': 100, 'access': 101, 'areas': 102, 'together': 103, 'increase': 104, 'underscored': 105, 'oil': 106, 'gas': 107, 'civil': 108, 'efforts': 109, 'reactors': 110, 'launch': 111, 'future': 112, 'minerals': 113, 'people': 114, 'president': 115, 'an': 116, 'law': 117, 'human': 118, 'trust': 119, 'citizens': 120, 'mutually': 121, 'further': 122, 'would': 123, 'expand': 124, 'arrangements': 125, 'agreement': 126, '\\xa0recognizing': 127, 'quad': 128, 'enable': 129, 'undersea': 130, 'its': 131, 'generation': 132, 'industries': 133, 'development': 134, 'first': 135, 'other': 136, 'investment': 137, 'chains': 138, 'deepen': 139, 'promote': 140, 'national': 141, 'billion': 142, 'sector': 143, 'take': 144, 'barriers': 145, 'like': 146, 'two': 147, 'companies': 148, 'high': 149, 'such': 150, 'manufacturing': 151, 'economic': 152, 'partners': 153, 'part': 154, 'infrastructure': 155, 'forward': 156, 'build': 157, 'government': 158, 'which': 159, 'while': 160, 'next': 161, 'research': 162, 'from': 163, '26': 164, 'mutual': 165, 'shared': 166, 'military': 167, '21st': 168, 'key': 169, 'level': 170, 'deepening': 171, 'ties': 172, 'industrial': 173, '\\xa0they': 174, 'procurement': 175, 'arms': 176, 'transfer': 177, 'order': 178, 'called': 179, 'autonomous': 180, 'state': 181, 'sea': 182, 'operations': 183, 'mobility': 184, 'prosperous': 185, 'innovative': 186, 'relationship': 187, 'end': 188, 'multi': 189, 'address': 190, 'measures': 191, 'exports': 192, 'sides': 193, 'materials': 194, 'over': 195, '000': 196, 'jobs': 197, '11': 198, 'role': 199, 'secure': 200, 'petroleum': 201, 'context': 202, 'natural': 203, 'large': 204, 'up': 205, 'private': 206, 'semiconductors': 207, 'addressing': 208, 'controls': 209, 'reduce': 210, 'indus': 211, 'academic': 212, 'good': 213, 'mineral': 214, 'bring': 215, 'spaceflight': 216, 'safety': 217, 'connectivity': 218, 'science': 219, 'foundation': 220, 'initiatives': 221, 'middle': 222, 'east': 223, 'terrorist': 224, 'against': 225, 'attacks': 226, 'institutions': 227, 'illegal': 228, 'immigration': 229, 'leaders’': 230, 'hosted': 231, 'washington': 232, '13': 233, 'freedom': 234, 'interests': 235, 'engagement': 236, 'launched': 237, 'compact': 238, 'opportunities': 239, 'drive': 240, 'outcomes': 241, 'demonstrate': 242, 'beneficial': 243, '1': 244, 'dynamic': 245, 'domains': 246, 'major': 247, 'century': 248, 'integration': 249, 'origin': 250, 'into': 251, 'aircraft': 252, 'anti': 253, 'missiles': 254, 'determined': 255, 'interoperability': 256, 'vehicles': 257, 'meet': 258, 'expect': 259, 'six': 260, 'terms': 261, '3': 262, 'partner': 263, 'authorization': 264, 'review': 265, 'regulations': 266, 'maintenance': 267, 'repair': 268, 'negotiations': 269, 'reciprocal': 270, 'better': 271, 'services': 272, 'accelerate': 273, 'air': 274, 'announcing': 275, 'roadmap': 276, 'recognizing': 277, 'group': 278, 'develop': 279, 'produce': 280, 'art': 281, 'counter': 282, 'active': 283, 'enhanced': 284, 'be': 285, '\\xa0finally': 286, 'sustain': 287, 'militaries': 288, 'intelligence': 289, 'sharing': 290, 'improve': 291, 'force': 292, 'humanitarian': 293, 'exchanges': 294, 'engagements': 295, '7': 296, 'make': 297, 'nations': 298, 'economies': 299, 'resilient': 300, 'growth': 301, 'than': 302, '8': 303, 'bta': 304, 'fall': 305, 'fully': 306, 'aspirations': 307, 'increasing': 308, 'market': 309, 'tariff': 310, 'non': 311, 'chain': 312, 'early': 313, 'recent': 314, 'agricultural': 315, '\\xa0both': 316, '\\xa0in': 317, 'regard': 318, 'ongoing': 319, 'those': 320, 'aluminum': 321, 'at': 322, 'facilities': 323, 'manufacture': 324, 'leading': 325, 'establish': 326, 'needs': 327, 'facilitate': 328, 'greater': 329, 'realize': 330, 'designed': 331, 'announcement': 332, 'act': 333, 'liability': 334, 'clnda': 335, 'accordance': 336, 'vendors': 337, 'are': 338, 'central': 339, 'financing': 340, 'building': 341, 'centers': 342, 'x': 343, 'leadership': 344, 'summit': 345, 'trusted': 346, 'effort': 347, 'plan': 348, 'public': 349, 'capacity': 350, 'create': 351, 'exploration': 352, 'using': 353, 'dual': 354, 'learning': 355, 'governments': 356, 'export': 357, 'free': 358, 'open': 359, 'peaceful': 360, 'lawful': 361, 'diplomatic': 362, 'advancing': 363, 'peace': 364, 'announce': 365, 'recognized': 366, 'world': 367, 'e': 368, 'prevent': 369, 'mumbai': 370, 'justice': 371, 'who': 372, 'has': 373, 'weapons': 374, 'terrorists': 375, 'actors': 376, '\\xa0president': 377, 'noted': 378, 'strong': 379, 'contributes': 380, 'students': 381, 'collaborations': 382, 'action': 383, 'networks': 384, 'india\\xa0joint': 385, 'statement': 386, 'america': 387, 'honorable': 388, 'donald': 389, 'j': 390, 'shri': 391, 'narendra': 392, 'official': 393, 'working': 394, 'visit': 395, 'dc': 396, 'february': 397, 'sovereign': 398, 'vibrant': 399, 'democracies': 400, 'rule': 401, 'rights': 402, 'pluralism': 403, 'strength': 404, 'comprehensive': 405, 'anchored': 406, 'goodwill': 407, 'robust': 408, 'today': 409, '“u': 410, 'catalyzing': 411, 'accelerated': 412, 'century”': 413, 'transformative': 414, 'change': 415, 'pillars': 416, 'under': 417, 'results': 418, 'driven': 419, 'agenda': 420, 'initial': 421, '\\xa0highlighting': 422, 'convergence': 423, 'unwavering': 424, 'spanning': 425, 'multiple': 426, 'sign': 427, 'ten': 428, 'framework': 429, '2': 430, 'significant': 431, 'items': 432, 'inventory': 433, 'date': 434, 'c‑130j': 435, 'super': 436, 'hercules': 437, 'c‑17': 438, 'globemaster': 439, 'iii': 440, 'p‑8i': 441, 'poseidon': 442, 'ch‑47f': 443, 'chinooks': 444, 'mh‑60r': 445, 'seahawks': 446, 'ah‑64e': 447, 'apaches': 448, 'harpoon': 449, 'ship': 450, 'm777': 451, 'howitzers': 452, 'mq‑9bs': 453, 'sales': 454, 'pursue': 455, 'procurements': 456, '“javelin”': 457, 'tank': 458, 'guided': 459, '“stryker”': 460, 'infantry': 461, 'combat': 462, 'rapidly': 463, 'requirements': 464, 'completion': 465, 'additional': 466, 'p': 467, '8i': 468, 'patrol': 469, 'surveillance': 470, 'reach': 471, 'following': 472, 'sale': 473, 'sta‑1': 474, 'respective': 475, 'traffic': 476, 'itar': 477, 'streamline': 478, 'exchange': 479, 'spare': 480, 'supplies': 481, 'country': 482, 'overhaul': 483, 'provided': 484, 'opening': 485, 'rdp': 486, 'align': 487, 'missile': 488, 'policy': 489, 'releasing': 490, 'fifth': 491, 'fighters': 492, '4': 493, '\\xa0building': 494, 'rising': 495, 'alliance': 496, 'asia': 497, 'anduril': 498, 'mahindra': 499, 'enabled': 500, 'unmanned': 501, 'aerial': 502, 'system': 503, 'uas': 504, 'regional': 505, 'l3': 506, 'harris': 507, 'bharat': 508, 'electronics': 509, 'towed': 510, 'array': 511, '5': 512, 'elevate': 513, 'all': 514, 'land': 515, 'cyberspace': 516, 'training': 517, 'exercises': 518, 'incorporating': 519, 'latest': 520, 'forthcoming': 521, '“tiger': 522, 'triumph”': 523, 'tri': 524, 'service': 525, 'exercise': 526, 'inaugurated': 527, '2019': 528, 'larger': 529, 'complexity': 530, '6': 531, 'break': 532, 'ground': 533, 'overseas': 534, 'deployments': 535, 'logistics': 536, 'disaster': 537, 'relief': 538, 'along': 539, 'stronger': 540, 'ensures': 541, 'fairness': 542, 'job': 543, 'creation': 544, '\\xa0to': 545, 'set': 546, 'bold': 547, 'goal': 548, '“mission': 549, '500”': 550, 'aiming': 551, 'double': 552, 'total': 553, '500': 554, '2030': 555, 'ambition': 556, 'require': 557, 'fair': 558, 'negotiate': 559, 'tranche': 560, 'designate': 561, 'senior': 562, 'representatives': 563, 'reflects': 564, 'wide': 565, 'ranging': 566, 'integrated': 567, 'approach': 568, 'towards': 569, 'reducing': 570, '9': 571, 'steps': 572, 'lower': 573, 'tariffs': 574, 'interest': 575, 'bourbon': 576, 'motorcycles': 577, 'ict': 578, 'metals': 579, 'alfalfa': 580, 'hay': 581, 'duck': 582, 'meat': 583, 'medical': 584, 'devices': 585, '\\xa0india': 586, 'expressed': 587, 'appreciation': 588, 'taken': 589, 'mangoes': 590, 'pomegranates': 591, 'collaborate': 592, 'labor': 593, 'intensive': 594, 'manufactured': 595, '10': 596, 'greenfield': 597, 'each': 598, 'other’s': 599, 'worth': 600, 'approximately': 601, '35': 602, 'hindalco’s': 603, 'novelis': 604, 'finished': 605, 'alabama': 606, 'kentucky': 607, 'jsw': 608, 'steel': 609, 'texas': 610, 'ohio': 611, 'epsilon': 612, 'battery': 613, 'north': 614, 'carolina': 615, 'jubilant': 616, 'pharma': 617, 'injectables': 618, 'quality': 619, 'local': 620, 'families': 621, 'agreed': 622, 'fundamental': 623, 'social': 624, 'being': 625, 'technical': 626, 'affordability': 627, 'reliability': 628, 'availability': 629, 'stable': 630, 'markets': 631, 'realizing': 632, 'consequential': 633, 'producers': 634, 'consumers': 635, 'driving': 636, 'landscape': 637, 're': 638, '12': 639, 'enhancing': 640, 'hydrocarbons': 641, 'prices': 642, 'affordable': 643, 'reliable': 644, 'reserves': 645, 'preserve': 646, 'stability': 647, 'during': 648, 'crises': 649, 'reserve': 650, 'side': 651, 'affirmed': 652, 'firm': 653, 'join': 654, 'agency': 655, 'full': 656, 'member': 657, 'supplier': 658, 'crude': 659, 'liquified': 660, 'line': 661, 'growing': 662, 'priorities': 663, 'tremendous': 664, 'scope': 665, 'opportunity': 666, 'hydrocarbon': 667, 'ethane': 668, 'diversification': 669, 'particularly': 670, '14': 671, '123': 672, 'moving': 673, 'localization': 674, 'possible': 675, 'budget': 676, 'amendments': 677, 'atomic': 678, 'damage': 679, 'decided': 680, 'issue': 681, 'deployment': 682, 'path': 683, 'unlock': 684, 'deploy': 685, 'power': 686, 'small': 687, 'modular': 688, '15': 689, '“transforming': 690, 'utilizing': 691, 'technology”': 692, 'catalyze': 693, 'academia': 694, 'application': 695, 'artificial': 696, 'quantum': 697, 'biotechnology': 698, 'encouraging': 699, 'use': 700, 'verified': 701, 'ensuring': 702, 'sensitive': 703, 'protected': 704, '16': 705, '\\xa0as': 706, 'pillar': 707, '“trust”': 708, 'put': 709, 'accelerating': 710, 'identifying': 711, 'constraints': 712, 'powering': 713, 'connecting': 714, 'milestones': 715, 'actions': 716, 'data': 717, 'compute': 718, 'processors': 719, 'innovations': 720, 'models': 721, 'applications': 722, 'solving': 723, 'societal': 724, 'challenges': 725, 'protections': 726, 'necessary': 727, 'protect': 728, 'regulatory': 729, '17': 730, 'bridge': 731, 'modeled': 732, 'after': 733, 'successful': 734, 'platform': 735, 'foster': 736, 'maintain': 737, 'reinforced': 738, 'investors': 739, 'universities': 740, 'capability': 741, '18': 742, 'pharmaceuticals': 743, 'encourage': 744, 'pharmaceutical': 745, 'ingredients': 746, 'medicines': 747, 'diversify': 748, 'vital': 749, 'risk': 750, 'life': 751, 'saving': 752, 'drug': 753, 'shortages': 754, '19': 755, 'entire': 756, 'members': 757, 'have': 758, 'intensifying': 759, 'beneficiation': 760, 'processing': 761, 'recycling': 762, 'recovery': 763, 'program': 764, 'recover': 765, 'process': 766, 'lithium': 767, 'cobalt': 768, 'rare': 769, 'earths': 770, 'heavy': 771, 'coal': 772, 'mining': 773, '20': 774, 'hailed': 775, 'pioneering': 776, 'nasa': 777, 'isro': 778, 'axiom': 779, 'astronaut': 780, 'station': 781, 'iss': 782, '“nisar”': 783, 'mission': 784, 'kind': 785, 'systematically': 786, 'map': 787, 'changes': 788, 'earth’s': 789, 'surface': 790, 'radars': 791, 'long': 792, 'duration': 793, 'missions': 794, 'expertise': 795, 'professional': 796, 'planetary': 797, 'protection': 798, 'commercial': 799, 'conventional': 800, 'satellite': 801, 'sustainability': 802, 'tourism': 803, '21': 804, 'scientific': 805, 'communities': 806, 'anusandhan': 807, 'researching': 808, '\\xa0this': 809, 'builds': 810, 'several': 811, 'agencies': 812, 'connected': 813, 'machine': 814, 'telecommunications': 815, 'intelligent': 816, 'transportation': 817, 'biomanufacturing': 818, '22': 819, 'redouble': 820, 'common': 821, 'challenge': 822, 'unfair': 823, 'practices': 824, 'third': 825, 'parties': 826, 'seeking': 827, 'exploit': 828, 'overconcentration': 829, 'multilateral': 830, '23': 831, 'close': 832, 'reiterated': 833, 'underpinned': 834, 'recognition': 835, 'asean': 836, 'centrality': 837, 'adherence': 838, 'governance': 839, 'navigation': 840, 'overflight': 841, 'uses': 842, 'seas': 843, 'unimpeded': 844, 'advocacy': 845, 'resolution': 846, 'disputes': 847, '24': 848, '\\xa0prime': 849, 'looks': 850, 'hosting': 851, 'delhi': 852, 'ahead': 853, 'activate': 854, 'airlift': 855, 'civilian': 856, 'response': 857, 'disasters': 858, 'patrols': 859, '25': 860, 'consultations': 861, 'tangible': 862, 'highlighted': 863, 'investing': 864, 'corridors': 865, 'convene': 866, 'europe': 867, 'corridor': 868, 'i2u2': 869, 'within': 870, 'months': 871, 'us': 872, 'appreciates': 873, 'developmental': 874, 'assistance': 875, 'net': 876, 'provider': 877, 'dialogue': 878, 'vast': 879, 'venture': 880, 'whole': 881, 'forum': 882, 'coordinated': 883, 'supporting': 884, 'meta’s': 885, 'cable': 886, 'project': 887, 'begin': 888, 'ultimately': 889, 'stretch': 890, '50': 891, 'km': 892, 'connect': 893, 'five': 894, 'continents': 895, 'digital': 896, 'highways': 897, 'beyond': 898, 'intends': 899, 'invest': 900, 'cables': 901, '27': 902, 'need': 903, 'plurilateral': 904, 'anchor': 905, 'western': 906, 'grow': 907, 'relationships': 908, 'sub': 909, 'regions': 910, '28': 911, 'multinational': 912, 'settings': 913, 'applauded': 914, 'decision': 915, 'combined': 916, 'forces': 917, 'naval': 918, 'task': 919, 'help': 920, 'lanes': 921, 'arabian': 922, '29': 923, 'scourge': 924, 'terrorism': 925, 'must': 926, 'fought': 927, 'safe': 928, 'havens': 929, 'eliminated': 930, 'every': 931, 'corner': 932, 'threats': 933, 'groups': 934, 'al': 935, 'qa’ida': 936, 'isis': 937, 'jaish': 938, 'mohammad': 939, 'lashkar': 940, 'tayyiba': 941, 'heinous': 942, 'acts': 943, 'abbey': 944, 'gate': 945, 'bombing': 946, 'afghanistan': 947, 'august': 948, '2021': 949, 'desire': 950, 'harm': 951, 'extradition': 952, 'tahawwur': 953, 'rana': 954, 'been': 955, 'approved': 956, 'pakistan': 957, 'expeditiously': 958, 'perpetrators': 959, 'pathankot': 960, 'territory': 961, 'not': 962, 'used': 963, 'carry': 964, 'out': 965, 'cross': 966, 'border': 967, 'proliferation': 968, 'mass': 969, 'destruction': 970, 'delivery': 971, 'deny': 972, '30': 973, '300': 974, 'student': 975, 'community': 976, 'annually': 977, 'economy': 978, 'helped': 979, 'number': 980, 'direct': 981, 'indirect': 982, 'talent': 983, 'flow': 984, 'movement': 985, 'researchers': 986, 'employees': 987, 'benefitted': 988, 'fostering': 989, 'improving': 990, 'ready': 991, 'workforce': 992, 'higher': 993, 'education': 994, 'degree': 995, 'twinning': 996, 'programs': 997, 'establishing': 998, 'excellence': 999, 'setting': 1000, 'offshore': 1001, 'campuses': 1002, 'premier': 1003, 'educational': 1004, '31': 1005, 'emphasized': 1006, 'evolution': 1007, 'workplace': 1008, 'calls': 1009, 'putting': 1010, 'place': 1011, 'advantageous': 1012, 'frameworks': 1013, 'streamlining': 1014, 'avenues': 1015, 'legal': 1016, 'professionals': 1017, 'facilitating': 1018, 'short': 1019, 'term': 1020, 'tourist': 1021, 'business': 1022, 'travel': 1023, 'aggressively': 1024, 'trafficking': 1025, 'taking': 1026, 'bad': 1027, 'criminal': 1028, 'facilitators': 1029, '32': 1030, 'enforcement': 1031, 'decisive': 1032, 'organized': 1033, 'crime': 1034, 'syndicates': 1035, 'narco': 1036, 'traffickers': 1037, 'elements': 1038, 'threaten': 1039, 'sovereignty': 1040, 'territorial': 1041, 'integrity': 1042, '33': 1043, 'ambitious': 1044, 'vision': 1045, 'enduring': 1046, 'advances': 1047, 'bright': 1048, 'serves': 1049}\n"
          ]
        }
      ]
    },
    {
      "cell_type": "markdown",
      "source": [
        "## Generate sequences from the sentences"
      ],
      "metadata": {
        "id": "lC3ZZJDJ9r7V"
      },
      "id": "lC3ZZJDJ9r7V"
    },
    {
      "cell_type": "code",
      "source": [
        "def generate_sequences_from_text_data(tokenizer, sentences):\n",
        "    # STEP #1: Convert sentences to sequences\n",
        "    sequences = tokenizer.texts_to_sequences(sentences)\n",
        "\n",
        "    x = []\n",
        "    y = []\n",
        "\n",
        "    for sequence in sequences:\n",
        "        for i in range(1, len(sequence)):\n",
        "            x.append(sequence[:i])\n",
        "            y.append(sequence[i])\n",
        "\n",
        "    # STEP #2: Pad sequences\n",
        "    x = keras.preprocessing.sequence.pad_sequences(x, padding='pre', maxlen=MAX_SENTENCE_LENGTH)\n",
        "\n",
        "    # STEP #3: prepare ground-truth value Ytrue\n",
        "    vocab_size = len(tokenizer.word_index) + 1\n",
        "    ytrue = to_categorical(y, num_classes=vocab_size)\n",
        "\n",
        "    return x, ytrue\n",
        "\n",
        "x, ytrue = generate_sequences_from_text_data(tokenizer, sentences)"
      ],
      "metadata": {
        "id": "r_d4rS9jSoKi"
      },
      "id": "r_d4rS9jSoKi",
      "execution_count": null,
      "outputs": []
    },
    {
      "cell_type": "code",
      "source": [
        "print(x[1])\n",
        "print(ytrue[1])"
      ],
      "metadata": {
        "colab": {
          "base_uri": "https://localhost:8080/"
        },
        "id": "m80SgzcLXXNP",
        "outputId": "05f80ccb-83ed-4f05-d2f8-9c61a214aa6f"
      },
      "id": "m80SgzcLXXNP",
      "execution_count": null,
      "outputs": [
        {
          "output_type": "stream",
          "name": "stdout",
          "text": [
            "[ 0  0  0  0  0  0  0  0  0  0  0  0  0  0  0  0  0  0  0  0  0  0  0  0\n",
            "  0  0  0  0  0  0  0  0  0  0  0  0  0  0  0  0  0  0  0  0  0  0  0  0\n",
            "  0  0  0  0  0  0  0  0  0  0  0  0  0  0  0  0  0  0 39 40]\n",
            "[0. 0. 0. ... 0. 0. 0.]\n"
          ]
        }
      ]
    },
    {
      "cell_type": "markdown",
      "source": [
        "## Built the LSTM Neural Network Model"
      ],
      "metadata": {
        "id": "crM48wJ_9xnV"
      },
      "id": "crM48wJ_9xnV"
    },
    {
      "cell_type": "code",
      "source": [
        "EMBEDDING_DIM = 300\n",
        "\n",
        "lstm = Sequential()\n",
        "lstm.add(Embedding(total_words, EMBEDDING_DIM, input_length=MAX_SENTENCE_LENGTH))\n",
        "lstm.add(LSTM(150))\n",
        "lstm.add(Dense(total_words, activation='softmax'))\n",
        "lstm.compile(loss='categorical_crossentropy', optimizer='adam', metrics=['accuracy'])\n",
        "print(lstm.summary())\n"
      ],
      "metadata": {
        "colab": {
          "base_uri": "https://localhost:8080/",
          "height": 248
        },
        "id": "8P_TLxBUVxj7",
        "outputId": "0af91611-eca9-4035-b7c6-21f0cc55732d"
      },
      "id": "8P_TLxBUVxj7",
      "execution_count": null,
      "outputs": [
        {
          "output_type": "display_data",
          "data": {
            "text/plain": [
              "\u001b[1mModel: \"sequential_2\"\u001b[0m\n"
            ],
            "text/html": [
              "<pre style=\"white-space:pre;overflow-x:auto;line-height:normal;font-family:Menlo,'DejaVu Sans Mono',consolas,'Courier New',monospace\"><span style=\"font-weight: bold\">Model: \"sequential_2\"</span>\n",
              "</pre>\n"
            ]
          },
          "metadata": {}
        },
        {
          "output_type": "display_data",
          "data": {
            "text/plain": [
              "┏━━━━━━━━━━━━━━━━━━━━━━━━━━━━━━━━━┳━━━━━━━━━━━━━━━━━━━━━━━━┳━━━━━━━━━━━━━━━┓\n",
              "┃\u001b[1m \u001b[0m\u001b[1mLayer (type)                   \u001b[0m\u001b[1m \u001b[0m┃\u001b[1m \u001b[0m\u001b[1mOutput Shape          \u001b[0m\u001b[1m \u001b[0m┃\u001b[1m \u001b[0m\u001b[1m      Param #\u001b[0m\u001b[1m \u001b[0m┃\n",
              "┡━━━━━━━━━━━━━━━━━━━━━━━━━━━━━━━━━╇━━━━━━━━━━━━━━━━━━━━━━━━╇━━━━━━━━━━━━━━━┩\n",
              "│ embedding_2 (\u001b[38;5;33mEmbedding\u001b[0m)         │ ?                      │   \u001b[38;5;34m0\u001b[0m (unbuilt) │\n",
              "├─────────────────────────────────┼────────────────────────┼───────────────┤\n",
              "│ lstm_2 (\u001b[38;5;33mLSTM\u001b[0m)                   │ ?                      │   \u001b[38;5;34m0\u001b[0m (unbuilt) │\n",
              "├─────────────────────────────────┼────────────────────────┼───────────────┤\n",
              "│ dense_2 (\u001b[38;5;33mDense\u001b[0m)                 │ ?                      │   \u001b[38;5;34m0\u001b[0m (unbuilt) │\n",
              "└─────────────────────────────────┴────────────────────────┴───────────────┘\n"
            ],
            "text/html": [
              "<pre style=\"white-space:pre;overflow-x:auto;line-height:normal;font-family:Menlo,'DejaVu Sans Mono',consolas,'Courier New',monospace\">┏━━━━━━━━━━━━━━━━━━━━━━━━━━━━━━━━━┳━━━━━━━━━━━━━━━━━━━━━━━━┳━━━━━━━━━━━━━━━┓\n",
              "┃<span style=\"font-weight: bold\"> Layer (type)                    </span>┃<span style=\"font-weight: bold\"> Output Shape           </span>┃<span style=\"font-weight: bold\">       Param # </span>┃\n",
              "┡━━━━━━━━━━━━━━━━━━━━━━━━━━━━━━━━━╇━━━━━━━━━━━━━━━━━━━━━━━━╇━━━━━━━━━━━━━━━┩\n",
              "│ embedding_2 (<span style=\"color: #0087ff; text-decoration-color: #0087ff\">Embedding</span>)         │ ?                      │   <span style=\"color: #00af00; text-decoration-color: #00af00\">0</span> (unbuilt) │\n",
              "├─────────────────────────────────┼────────────────────────┼───────────────┤\n",
              "│ lstm_2 (<span style=\"color: #0087ff; text-decoration-color: #0087ff\">LSTM</span>)                   │ ?                      │   <span style=\"color: #00af00; text-decoration-color: #00af00\">0</span> (unbuilt) │\n",
              "├─────────────────────────────────┼────────────────────────┼───────────────┤\n",
              "│ dense_2 (<span style=\"color: #0087ff; text-decoration-color: #0087ff\">Dense</span>)                 │ ?                      │   <span style=\"color: #00af00; text-decoration-color: #00af00\">0</span> (unbuilt) │\n",
              "└─────────────────────────────────┴────────────────────────┴───────────────┘\n",
              "</pre>\n"
            ]
          },
          "metadata": {}
        },
        {
          "output_type": "display_data",
          "data": {
            "text/plain": [
              "\u001b[1m Total params: \u001b[0m\u001b[38;5;34m0\u001b[0m (0.00 B)\n"
            ],
            "text/html": [
              "<pre style=\"white-space:pre;overflow-x:auto;line-height:normal;font-family:Menlo,'DejaVu Sans Mono',consolas,'Courier New',monospace\"><span style=\"font-weight: bold\"> Total params: </span><span style=\"color: #00af00; text-decoration-color: #00af00\">0</span> (0.00 B)\n",
              "</pre>\n"
            ]
          },
          "metadata": {}
        },
        {
          "output_type": "display_data",
          "data": {
            "text/plain": [
              "\u001b[1m Trainable params: \u001b[0m\u001b[38;5;34m0\u001b[0m (0.00 B)\n"
            ],
            "text/html": [
              "<pre style=\"white-space:pre;overflow-x:auto;line-height:normal;font-family:Menlo,'DejaVu Sans Mono',consolas,'Courier New',monospace\"><span style=\"font-weight: bold\"> Trainable params: </span><span style=\"color: #00af00; text-decoration-color: #00af00\">0</span> (0.00 B)\n",
              "</pre>\n"
            ]
          },
          "metadata": {}
        },
        {
          "output_type": "display_data",
          "data": {
            "text/plain": [
              "\u001b[1m Non-trainable params: \u001b[0m\u001b[38;5;34m0\u001b[0m (0.00 B)\n"
            ],
            "text/html": [
              "<pre style=\"white-space:pre;overflow-x:auto;line-height:normal;font-family:Menlo,'DejaVu Sans Mono',consolas,'Courier New',monospace\"><span style=\"font-weight: bold\"> Non-trainable params: </span><span style=\"color: #00af00; text-decoration-color: #00af00\">0</span> (0.00 B)\n",
              "</pre>\n"
            ]
          },
          "metadata": {}
        },
        {
          "output_type": "stream",
          "name": "stdout",
          "text": [
            "None\n"
          ]
        }
      ]
    },
    {
      "cell_type": "code",
      "source": [
        "lstm.fit(x, ytrue, epochs=100, batch_size=30, verbose=1)"
      ],
      "metadata": {
        "colab": {
          "base_uri": "https://localhost:8080/"
        },
        "id": "q7kkfwO-W_LV",
        "outputId": "a35b1760-b378-488d-ae22-9b63d97c8fd2"
      },
      "id": "q7kkfwO-W_LV",
      "execution_count": null,
      "outputs": [
        {
          "output_type": "stream",
          "name": "stdout",
          "text": [
            "Epoch 1/100\n",
            "\u001b[1m103/103\u001b[0m \u001b[32m━━━━━━━━━━━━━━━━━━━━\u001b[0m\u001b[37m\u001b[0m \u001b[1m1s\u001b[0m 8ms/step - accuracy: 0.9697 - loss: 0.0776\n",
            "Epoch 2/100\n",
            "\u001b[1m103/103\u001b[0m \u001b[32m━━━━━━━━━━━━━━━━━━━━\u001b[0m\u001b[37m\u001b[0m \u001b[1m1s\u001b[0m 7ms/step - accuracy: 0.9719 - loss: 0.0835\n",
            "Epoch 3/100\n",
            "\u001b[1m103/103\u001b[0m \u001b[32m━━━━━━━━━━━━━━━━━━━━\u001b[0m\u001b[37m\u001b[0m \u001b[1m1s\u001b[0m 9ms/step - accuracy: 0.9687 - loss: 0.0753\n",
            "Epoch 4/100\n",
            "\u001b[1m103/103\u001b[0m \u001b[32m━━━━━━━━━━━━━━━━━━━━\u001b[0m\u001b[37m\u001b[0m \u001b[1m1s\u001b[0m 9ms/step - accuracy: 0.9703 - loss: 0.0729\n",
            "Epoch 5/100\n",
            "\u001b[1m103/103\u001b[0m \u001b[32m━━━━━━━━━━━━━━━━━━━━\u001b[0m\u001b[37m\u001b[0m \u001b[1m1s\u001b[0m 7ms/step - accuracy: 0.9609 - loss: 0.0906\n",
            "Epoch 6/100\n",
            "\u001b[1m103/103\u001b[0m \u001b[32m━━━━━━━━━━━━━━━━━━━━\u001b[0m\u001b[37m\u001b[0m \u001b[1m1s\u001b[0m 7ms/step - accuracy: 0.9615 - loss: 0.0890\n",
            "Epoch 7/100\n",
            "\u001b[1m103/103\u001b[0m \u001b[32m━━━━━━━━━━━━━━━━━━━━\u001b[0m\u001b[37m\u001b[0m \u001b[1m1s\u001b[0m 7ms/step - accuracy: 0.9666 - loss: 0.0865\n",
            "Epoch 8/100\n",
            "\u001b[1m103/103\u001b[0m \u001b[32m━━━━━━━━━━━━━━━━━━━━\u001b[0m\u001b[37m\u001b[0m \u001b[1m1s\u001b[0m 7ms/step - accuracy: 0.9646 - loss: 0.0888\n",
            "Epoch 9/100\n",
            "\u001b[1m103/103\u001b[0m \u001b[32m━━━━━━━━━━━━━━━━━━━━\u001b[0m\u001b[37m\u001b[0m \u001b[1m1s\u001b[0m 7ms/step - accuracy: 0.9704 - loss: 0.0807\n",
            "Epoch 10/100\n",
            "\u001b[1m103/103\u001b[0m \u001b[32m━━━━━━━━━━━━━━━━━━━━\u001b[0m\u001b[37m\u001b[0m \u001b[1m1s\u001b[0m 7ms/step - accuracy: 0.9673 - loss: 0.0802\n",
            "Epoch 11/100\n",
            "\u001b[1m103/103\u001b[0m \u001b[32m━━━━━━━━━━━━━━━━━━━━\u001b[0m\u001b[37m\u001b[0m \u001b[1m1s\u001b[0m 7ms/step - accuracy: 0.9662 - loss: 0.0797\n",
            "Epoch 12/100\n",
            "\u001b[1m103/103\u001b[0m \u001b[32m━━━━━━━━━━━━━━━━━━━━\u001b[0m\u001b[37m\u001b[0m \u001b[1m1s\u001b[0m 7ms/step - accuracy: 0.9675 - loss: 0.0802\n",
            "Epoch 13/100\n",
            "\u001b[1m103/103\u001b[0m \u001b[32m━━━━━━━━━━━━━━━━━━━━\u001b[0m\u001b[37m\u001b[0m \u001b[1m1s\u001b[0m 7ms/step - accuracy: 0.9677 - loss: 0.0866\n",
            "Epoch 14/100\n",
            "\u001b[1m103/103\u001b[0m \u001b[32m━━━━━━━━━━━━━━━━━━━━\u001b[0m\u001b[37m\u001b[0m \u001b[1m1s\u001b[0m 9ms/step - accuracy: 0.9712 - loss: 0.0748\n",
            "Epoch 15/100\n",
            "\u001b[1m103/103\u001b[0m \u001b[32m━━━━━━━━━━━━━━━━━━━━\u001b[0m\u001b[37m\u001b[0m \u001b[1m1s\u001b[0m 9ms/step - accuracy: 0.9737 - loss: 0.0692\n",
            "Epoch 16/100\n",
            "\u001b[1m103/103\u001b[0m \u001b[32m━━━━━━━━━━━━━━━━━━━━\u001b[0m\u001b[37m\u001b[0m \u001b[1m1s\u001b[0m 7ms/step - accuracy: 0.9697 - loss: 0.0739\n",
            "Epoch 17/100\n",
            "\u001b[1m103/103\u001b[0m \u001b[32m━━━━━━━━━━━━━━━━━━━━\u001b[0m\u001b[37m\u001b[0m \u001b[1m1s\u001b[0m 7ms/step - accuracy: 0.9690 - loss: 0.0823\n",
            "Epoch 18/100\n",
            "\u001b[1m103/103\u001b[0m \u001b[32m━━━━━━━━━━━━━━━━━━━━\u001b[0m\u001b[37m\u001b[0m \u001b[1m1s\u001b[0m 7ms/step - accuracy: 0.9680 - loss: 0.0840\n",
            "Epoch 19/100\n",
            "\u001b[1m103/103\u001b[0m \u001b[32m━━━━━━━━━━━━━━━━━━━━\u001b[0m\u001b[37m\u001b[0m \u001b[1m1s\u001b[0m 7ms/step - accuracy: 0.9734 - loss: 0.0727\n",
            "Epoch 20/100\n",
            "\u001b[1m103/103\u001b[0m \u001b[32m━━━━━━━━━━━━━━━━━━━━\u001b[0m\u001b[37m\u001b[0m \u001b[1m1s\u001b[0m 7ms/step - accuracy: 0.9635 - loss: 0.0947\n",
            "Epoch 21/100\n",
            "\u001b[1m103/103\u001b[0m \u001b[32m━━━━━━━━━━━━━━━━━━━━\u001b[0m\u001b[37m\u001b[0m \u001b[1m1s\u001b[0m 7ms/step - accuracy: 0.9635 - loss: 0.0862\n",
            "Epoch 22/100\n",
            "\u001b[1m103/103\u001b[0m \u001b[32m━━━━━━━━━━━━━━━━━━━━\u001b[0m\u001b[37m\u001b[0m \u001b[1m1s\u001b[0m 7ms/step - accuracy: 0.9708 - loss: 0.0761\n",
            "Epoch 23/100\n",
            "\u001b[1m103/103\u001b[0m \u001b[32m━━━━━━━━━━━━━━━━━━━━\u001b[0m\u001b[37m\u001b[0m \u001b[1m1s\u001b[0m 7ms/step - accuracy: 0.9676 - loss: 0.0766\n",
            "Epoch 24/100\n",
            "\u001b[1m103/103\u001b[0m \u001b[32m━━━━━━━━━━━━━━━━━━━━\u001b[0m\u001b[37m\u001b[0m \u001b[1m1s\u001b[0m 7ms/step - accuracy: 0.9666 - loss: 0.0880\n",
            "Epoch 25/100\n",
            "\u001b[1m103/103\u001b[0m \u001b[32m━━━━━━━━━━━━━━━━━━━━\u001b[0m\u001b[37m\u001b[0m \u001b[1m1s\u001b[0m 9ms/step - accuracy: 0.9737 - loss: 0.0671\n",
            "Epoch 26/100\n",
            "\u001b[1m103/103\u001b[0m \u001b[32m━━━━━━━━━━━━━━━━━━━━\u001b[0m\u001b[37m\u001b[0m \u001b[1m1s\u001b[0m 9ms/step - accuracy: 0.9692 - loss: 0.0724\n",
            "Epoch 27/100\n",
            "\u001b[1m103/103\u001b[0m \u001b[32m━━━━━━━━━━━━━━━━━━━━\u001b[0m\u001b[37m\u001b[0m \u001b[1m1s\u001b[0m 7ms/step - accuracy: 0.9652 - loss: 0.0805\n",
            "Epoch 28/100\n",
            "\u001b[1m103/103\u001b[0m \u001b[32m━━━━━━━━━━━━━━━━━━━━\u001b[0m\u001b[37m\u001b[0m \u001b[1m1s\u001b[0m 7ms/step - accuracy: 0.9698 - loss: 0.0794\n",
            "Epoch 29/100\n",
            "\u001b[1m103/103\u001b[0m \u001b[32m━━━━━━━━━━━━━━━━━━━━\u001b[0m\u001b[37m\u001b[0m \u001b[1m1s\u001b[0m 7ms/step - accuracy: 0.9688 - loss: 0.0756\n",
            "Epoch 30/100\n",
            "\u001b[1m103/103\u001b[0m \u001b[32m━━━━━━━━━━━━━━━━━━━━\u001b[0m\u001b[37m\u001b[0m \u001b[1m1s\u001b[0m 7ms/step - accuracy: 0.9697 - loss: 0.0770\n",
            "Epoch 31/100\n",
            "\u001b[1m103/103\u001b[0m \u001b[32m━━━━━━━━━━━━━━━━━━━━\u001b[0m\u001b[37m\u001b[0m \u001b[1m1s\u001b[0m 7ms/step - accuracy: 0.9631 - loss: 0.0830\n",
            "Epoch 32/100\n",
            "\u001b[1m103/103\u001b[0m \u001b[32m━━━━━━━━━━━━━━━━━━━━\u001b[0m\u001b[37m\u001b[0m \u001b[1m1s\u001b[0m 7ms/step - accuracy: 0.9694 - loss: 0.0690\n",
            "Epoch 33/100\n",
            "\u001b[1m103/103\u001b[0m \u001b[32m━━━━━━━━━━━━━━━━━━━━\u001b[0m\u001b[37m\u001b[0m \u001b[1m1s\u001b[0m 7ms/step - accuracy: 0.9692 - loss: 0.0784\n",
            "Epoch 34/100\n",
            "\u001b[1m103/103\u001b[0m \u001b[32m━━━━━━━━━━━━━━━━━━━━\u001b[0m\u001b[37m\u001b[0m \u001b[1m1s\u001b[0m 7ms/step - accuracy: 0.9743 - loss: 0.0680\n",
            "Epoch 35/100\n",
            "\u001b[1m103/103\u001b[0m \u001b[32m━━━━━━━━━━━━━━━━━━━━\u001b[0m\u001b[37m\u001b[0m \u001b[1m1s\u001b[0m 7ms/step - accuracy: 0.9637 - loss: 0.0850\n",
            "Epoch 36/100\n",
            "\u001b[1m103/103\u001b[0m \u001b[32m━━━━━━━━━━━━━━━━━━━━\u001b[0m\u001b[37m\u001b[0m \u001b[1m1s\u001b[0m 7ms/step - accuracy: 0.9639 - loss: 0.0892\n",
            "Epoch 37/100\n",
            "\u001b[1m103/103\u001b[0m \u001b[32m━━━━━━━━━━━━━━━━━━━━\u001b[0m\u001b[37m\u001b[0m \u001b[1m1s\u001b[0m 7ms/step - accuracy: 0.9627 - loss: 0.0835\n",
            "Epoch 38/100\n",
            "\u001b[1m103/103\u001b[0m \u001b[32m━━━━━━━━━━━━━━━━━━━━\u001b[0m\u001b[37m\u001b[0m \u001b[1m1s\u001b[0m 9ms/step - accuracy: 0.9664 - loss: 0.0888\n",
            "Epoch 39/100\n",
            "\u001b[1m103/103\u001b[0m \u001b[32m━━━━━━━━━━━━━━━━━━━━\u001b[0m\u001b[37m\u001b[0m \u001b[1m1s\u001b[0m 10ms/step - accuracy: 0.9685 - loss: 0.0813\n",
            "Epoch 40/100\n",
            "\u001b[1m103/103\u001b[0m \u001b[32m━━━━━━━━━━━━━━━━━━━━\u001b[0m\u001b[37m\u001b[0m \u001b[1m1s\u001b[0m 8ms/step - accuracy: 0.9648 - loss: 0.0819\n",
            "Epoch 41/100\n",
            "\u001b[1m103/103\u001b[0m \u001b[32m━━━━━━━━━━━━━━━━━━━━\u001b[0m\u001b[37m\u001b[0m \u001b[1m1s\u001b[0m 7ms/step - accuracy: 0.9731 - loss: 0.0722\n",
            "Epoch 42/100\n",
            "\u001b[1m103/103\u001b[0m \u001b[32m━━━━━━━━━━━━━━━━━━━━\u001b[0m\u001b[37m\u001b[0m \u001b[1m1s\u001b[0m 7ms/step - accuracy: 0.9654 - loss: 0.0860\n",
            "Epoch 43/100\n",
            "\u001b[1m103/103\u001b[0m \u001b[32m━━━━━━━━━━━━━━━━━━━━\u001b[0m\u001b[37m\u001b[0m \u001b[1m1s\u001b[0m 7ms/step - accuracy: 0.9742 - loss: 0.0731\n",
            "Epoch 44/100\n",
            "\u001b[1m103/103\u001b[0m \u001b[32m━━━━━━━━━━━━━━━━━━━━\u001b[0m\u001b[37m\u001b[0m \u001b[1m1s\u001b[0m 7ms/step - accuracy: 0.9642 - loss: 0.0804\n",
            "Epoch 45/100\n",
            "\u001b[1m103/103\u001b[0m \u001b[32m━━━━━━━━━━━━━━━━━━━━\u001b[0m\u001b[37m\u001b[0m \u001b[1m1s\u001b[0m 7ms/step - accuracy: 0.9662 - loss: 0.0883\n",
            "Epoch 46/100\n",
            "\u001b[1m103/103\u001b[0m \u001b[32m━━━━━━━━━━━━━━━━━━━━\u001b[0m\u001b[37m\u001b[0m \u001b[1m1s\u001b[0m 7ms/step - accuracy: 0.9681 - loss: 0.0839\n",
            "Epoch 47/100\n",
            "\u001b[1m103/103\u001b[0m \u001b[32m━━━━━━━━━━━━━━━━━━━━\u001b[0m\u001b[37m\u001b[0m \u001b[1m1s\u001b[0m 7ms/step - accuracy: 0.9635 - loss: 0.0838\n",
            "Epoch 48/100\n",
            "\u001b[1m103/103\u001b[0m \u001b[32m━━━━━━━━━━━━━━━━━━━━\u001b[0m\u001b[37m\u001b[0m \u001b[1m1s\u001b[0m 7ms/step - accuracy: 0.9697 - loss: 0.0726\n",
            "Epoch 49/100\n",
            "\u001b[1m103/103\u001b[0m \u001b[32m━━━━━━━━━━━━━━━━━━━━\u001b[0m\u001b[37m\u001b[0m \u001b[1m1s\u001b[0m 9ms/step - accuracy: 0.9697 - loss: 0.0694\n",
            "Epoch 50/100\n",
            "\u001b[1m103/103\u001b[0m \u001b[32m━━━━━━━━━━━━━━━━━━━━\u001b[0m\u001b[37m\u001b[0m \u001b[1m1s\u001b[0m 9ms/step - accuracy: 0.9734 - loss: 0.0761\n",
            "Epoch 51/100\n",
            "\u001b[1m103/103\u001b[0m \u001b[32m━━━━━━━━━━━━━━━━━━━━\u001b[0m\u001b[37m\u001b[0m \u001b[1m1s\u001b[0m 7ms/step - accuracy: 0.9707 - loss: 0.0698\n",
            "Epoch 52/100\n",
            "\u001b[1m103/103\u001b[0m \u001b[32m━━━━━━━━━━━━━━━━━━━━\u001b[0m\u001b[37m\u001b[0m \u001b[1m1s\u001b[0m 7ms/step - accuracy: 0.9609 - loss: 0.0878\n",
            "Epoch 53/100\n",
            "\u001b[1m103/103\u001b[0m \u001b[32m━━━━━━━━━━━━━━━━━━━━\u001b[0m\u001b[37m\u001b[0m \u001b[1m1s\u001b[0m 7ms/step - accuracy: 0.9715 - loss: 0.0804\n",
            "Epoch 54/100\n",
            "\u001b[1m103/103\u001b[0m \u001b[32m━━━━━━━━━━━━━━━━━━━━\u001b[0m\u001b[37m\u001b[0m \u001b[1m1s\u001b[0m 7ms/step - accuracy: 0.9650 - loss: 0.0798\n",
            "Epoch 55/100\n",
            "\u001b[1m103/103\u001b[0m \u001b[32m━━━━━━━━━━━━━━━━━━━━\u001b[0m\u001b[37m\u001b[0m \u001b[1m1s\u001b[0m 7ms/step - accuracy: 0.9679 - loss: 0.0768\n",
            "Epoch 56/100\n",
            "\u001b[1m103/103\u001b[0m \u001b[32m━━━━━━━━━━━━━━━━━━━━\u001b[0m\u001b[37m\u001b[0m \u001b[1m1s\u001b[0m 7ms/step - accuracy: 0.9702 - loss: 0.0728\n",
            "Epoch 57/100\n",
            "\u001b[1m103/103\u001b[0m \u001b[32m━━━━━━━━━━━━━━━━━━━━\u001b[0m\u001b[37m\u001b[0m \u001b[1m1s\u001b[0m 7ms/step - accuracy: 0.9687 - loss: 0.0781\n",
            "Epoch 58/100\n",
            "\u001b[1m103/103\u001b[0m \u001b[32m━━━━━━━━━━━━━━━━━━━━\u001b[0m\u001b[37m\u001b[0m \u001b[1m1s\u001b[0m 7ms/step - accuracy: 0.9662 - loss: 0.0779\n",
            "Epoch 59/100\n",
            "\u001b[1m103/103\u001b[0m \u001b[32m━━━━━━━━━━━━━━━━━━━━\u001b[0m\u001b[37m\u001b[0m \u001b[1m1s\u001b[0m 7ms/step - accuracy: 0.9694 - loss: 0.0683\n",
            "Epoch 60/100\n",
            "\u001b[1m103/103\u001b[0m \u001b[32m━━━━━━━━━━━━━━━━━━━━\u001b[0m\u001b[37m\u001b[0m \u001b[1m1s\u001b[0m 8ms/step - accuracy: 0.9650 - loss: 0.0803\n",
            "Epoch 61/100\n",
            "\u001b[1m103/103\u001b[0m \u001b[32m━━━━━━━━━━━━━━━━━━━━\u001b[0m\u001b[37m\u001b[0m \u001b[1m1s\u001b[0m 9ms/step - accuracy: 0.9652 - loss: 0.0839\n",
            "Epoch 62/100\n",
            "\u001b[1m103/103\u001b[0m \u001b[32m━━━━━━━━━━━━━━━━━━━━\u001b[0m\u001b[37m\u001b[0m \u001b[1m1s\u001b[0m 7ms/step - accuracy: 0.9704 - loss: 0.0737\n",
            "Epoch 63/100\n",
            "\u001b[1m103/103\u001b[0m \u001b[32m━━━━━━━━━━━━━━━━━━━━\u001b[0m\u001b[37m\u001b[0m \u001b[1m1s\u001b[0m 7ms/step - accuracy: 0.9701 - loss: 0.0763\n",
            "Epoch 64/100\n",
            "\u001b[1m103/103\u001b[0m \u001b[32m━━━━━━━━━━━━━━━━━━━━\u001b[0m\u001b[37m\u001b[0m \u001b[1m1s\u001b[0m 7ms/step - accuracy: 0.9745 - loss: 0.0687\n",
            "Epoch 65/100\n",
            "\u001b[1m103/103\u001b[0m \u001b[32m━━━━━━━━━━━━━━━━━━━━\u001b[0m\u001b[37m\u001b[0m \u001b[1m1s\u001b[0m 7ms/step - accuracy: 0.9679 - loss: 0.0710\n",
            "Epoch 66/100\n",
            "\u001b[1m103/103\u001b[0m \u001b[32m━━━━━━━━━━━━━━━━━━━━\u001b[0m\u001b[37m\u001b[0m \u001b[1m1s\u001b[0m 7ms/step - accuracy: 0.9699 - loss: 0.0765\n",
            "Epoch 67/100\n",
            "\u001b[1m103/103\u001b[0m \u001b[32m━━━━━━━━━━━━━━━━━━━━\u001b[0m\u001b[37m\u001b[0m \u001b[1m1s\u001b[0m 7ms/step - accuracy: 0.9691 - loss: 0.0755\n",
            "Epoch 68/100\n",
            "\u001b[1m103/103\u001b[0m \u001b[32m━━━━━━━━━━━━━━━━━━━━\u001b[0m\u001b[37m\u001b[0m \u001b[1m1s\u001b[0m 7ms/step - accuracy: 0.9643 - loss: 0.0908\n",
            "Epoch 69/100\n",
            "\u001b[1m103/103\u001b[0m \u001b[32m━━━━━━━━━━━━━━━━━━━━\u001b[0m\u001b[37m\u001b[0m \u001b[1m1s\u001b[0m 7ms/step - accuracy: 0.9749 - loss: 0.0658\n",
            "Epoch 70/100\n",
            "\u001b[1m103/103\u001b[0m \u001b[32m━━━━━━━━━━━━━━━━━━━━\u001b[0m\u001b[37m\u001b[0m \u001b[1m1s\u001b[0m 7ms/step - accuracy: 0.9695 - loss: 0.0753\n",
            "Epoch 71/100\n",
            "\u001b[1m103/103\u001b[0m \u001b[32m━━━━━━━━━━━━━━━━━━━━\u001b[0m\u001b[37m\u001b[0m \u001b[1m1s\u001b[0m 7ms/step - accuracy: 0.9726 - loss: 0.0703\n",
            "Epoch 72/100\n",
            "\u001b[1m103/103\u001b[0m \u001b[32m━━━━━━━━━━━━━━━━━━━━\u001b[0m\u001b[37m\u001b[0m \u001b[1m2s\u001b[0m 9ms/step - accuracy: 0.9686 - loss: 0.0811\n",
            "Epoch 73/100\n",
            "\u001b[1m103/103\u001b[0m \u001b[32m━━━━━━━━━━━━━━━━━━━━\u001b[0m\u001b[37m\u001b[0m \u001b[1m1s\u001b[0m 9ms/step - accuracy: 0.9690 - loss: 0.0691\n",
            "Epoch 74/100\n",
            "\u001b[1m103/103\u001b[0m \u001b[32m━━━━━━━━━━━━━━━━━━━━\u001b[0m\u001b[37m\u001b[0m \u001b[1m1s\u001b[0m 7ms/step - accuracy: 0.9734 - loss: 0.0703\n",
            "Epoch 75/100\n",
            "\u001b[1m103/103\u001b[0m \u001b[32m━━━━━━━━━━━━━━━━━━━━\u001b[0m\u001b[37m\u001b[0m \u001b[1m1s\u001b[0m 7ms/step - accuracy: 0.9639 - loss: 0.0937\n",
            "Epoch 76/100\n",
            "\u001b[1m103/103\u001b[0m \u001b[32m━━━━━━━━━━━━━━━━━━━━\u001b[0m\u001b[37m\u001b[0m \u001b[1m1s\u001b[0m 7ms/step - accuracy: 0.9697 - loss: 0.0708\n",
            "Epoch 77/100\n",
            "\u001b[1m103/103\u001b[0m \u001b[32m━━━━━━━━━━━━━━━━━━━━\u001b[0m\u001b[37m\u001b[0m \u001b[1m1s\u001b[0m 7ms/step - accuracy: 0.9663 - loss: 0.0801\n",
            "Epoch 78/100\n",
            "\u001b[1m103/103\u001b[0m \u001b[32m━━━━━━━━━━━━━━━━━━━━\u001b[0m\u001b[37m\u001b[0m \u001b[1m1s\u001b[0m 7ms/step - accuracy: 0.9676 - loss: 0.0772\n",
            "Epoch 79/100\n",
            "\u001b[1m103/103\u001b[0m \u001b[32m━━━━━━━━━━━━━━━━━━━━\u001b[0m\u001b[37m\u001b[0m \u001b[1m1s\u001b[0m 7ms/step - accuracy: 0.9685 - loss: 0.0782\n",
            "Epoch 80/100\n",
            "\u001b[1m103/103\u001b[0m \u001b[32m━━━━━━━━━━━━━━━━━━━━\u001b[0m\u001b[37m\u001b[0m \u001b[1m1s\u001b[0m 7ms/step - accuracy: 0.9666 - loss: 0.0841\n",
            "Epoch 81/100\n",
            "\u001b[1m103/103\u001b[0m \u001b[32m━━━━━━━━━━━━━━━━━━━━\u001b[0m\u001b[37m\u001b[0m \u001b[1m1s\u001b[0m 7ms/step - accuracy: 0.9701 - loss: 0.0774\n",
            "Epoch 82/100\n",
            "\u001b[1m103/103\u001b[0m \u001b[32m━━━━━━━━━━━━━━━━━━━━\u001b[0m\u001b[37m\u001b[0m \u001b[1m1s\u001b[0m 7ms/step - accuracy: 0.9664 - loss: 0.0845\n",
            "Epoch 83/100\n",
            "\u001b[1m103/103\u001b[0m \u001b[32m━━━━━━━━━━━━━━━━━━━━\u001b[0m\u001b[37m\u001b[0m \u001b[1m1s\u001b[0m 8ms/step - accuracy: 0.9642 - loss: 0.0904\n",
            "Epoch 84/100\n",
            "\u001b[1m103/103\u001b[0m \u001b[32m━━━━━━━━━━━━━━━━━━━━\u001b[0m\u001b[37m\u001b[0m \u001b[1m1s\u001b[0m 9ms/step - accuracy: 0.9710 - loss: 0.0660\n",
            "Epoch 85/100\n",
            "\u001b[1m103/103\u001b[0m \u001b[32m━━━━━━━━━━━━━━━━━━━━\u001b[0m\u001b[37m\u001b[0m \u001b[1m1s\u001b[0m 7ms/step - accuracy: 0.9628 - loss: 0.0837\n",
            "Epoch 86/100\n",
            "\u001b[1m103/103\u001b[0m \u001b[32m━━━━━━━━━━━━━━━━━━━━\u001b[0m\u001b[37m\u001b[0m \u001b[1m1s\u001b[0m 7ms/step - accuracy: 0.9703 - loss: 0.0751\n",
            "Epoch 87/100\n",
            "\u001b[1m103/103\u001b[0m \u001b[32m━━━━━━━━━━━━━━━━━━━━\u001b[0m\u001b[37m\u001b[0m \u001b[1m1s\u001b[0m 7ms/step - accuracy: 0.9523 - loss: 0.1343\n",
            "Epoch 88/100\n",
            "\u001b[1m103/103\u001b[0m \u001b[32m━━━━━━━━━━━━━━━━━━━━\u001b[0m\u001b[37m\u001b[0m \u001b[1m1s\u001b[0m 7ms/step - accuracy: 0.9512 - loss: 0.1542\n",
            "Epoch 89/100\n",
            "\u001b[1m103/103\u001b[0m \u001b[32m━━━━━━━━━━━━━━━━━━━━\u001b[0m\u001b[37m\u001b[0m \u001b[1m1s\u001b[0m 7ms/step - accuracy: 0.9686 - loss: 0.0843\n",
            "Epoch 90/100\n",
            "\u001b[1m103/103\u001b[0m \u001b[32m━━━━━━━━━━━━━━━━━━━━\u001b[0m\u001b[37m\u001b[0m \u001b[1m1s\u001b[0m 7ms/step - accuracy: 0.9718 - loss: 0.0765\n",
            "Epoch 91/100\n",
            "\u001b[1m103/103\u001b[0m \u001b[32m━━━━━━━━━━━━━━━━━━━━\u001b[0m\u001b[37m\u001b[0m \u001b[1m1s\u001b[0m 7ms/step - accuracy: 0.9701 - loss: 0.0732\n",
            "Epoch 92/100\n",
            "\u001b[1m103/103\u001b[0m \u001b[32m━━━━━━━━━━━━━━━━━━━━\u001b[0m\u001b[37m\u001b[0m \u001b[1m1s\u001b[0m 7ms/step - accuracy: 0.9737 - loss: 0.0751\n",
            "Epoch 93/100\n",
            "\u001b[1m103/103\u001b[0m \u001b[32m━━━━━━━━━━━━━━━━━━━━\u001b[0m\u001b[37m\u001b[0m \u001b[1m1s\u001b[0m 7ms/step - accuracy: 0.9679 - loss: 0.0759\n",
            "Epoch 94/100\n",
            "\u001b[1m103/103\u001b[0m \u001b[32m━━━━━━━━━━━━━━━━━━━━\u001b[0m\u001b[37m\u001b[0m \u001b[1m1s\u001b[0m 7ms/step - accuracy: 0.9643 - loss: 0.0839\n",
            "Epoch 95/100\n",
            "\u001b[1m103/103\u001b[0m \u001b[32m━━━━━━━━━━━━━━━━━━━━\u001b[0m\u001b[37m\u001b[0m \u001b[1m2s\u001b[0m 9ms/step - accuracy: 0.9676 - loss: 0.0715\n",
            "Epoch 96/100\n",
            "\u001b[1m103/103\u001b[0m \u001b[32m━━━━━━━━━━━━━━━━━━━━\u001b[0m\u001b[37m\u001b[0m \u001b[1m1s\u001b[0m 8ms/step - accuracy: 0.9670 - loss: 0.0785\n",
            "Epoch 97/100\n",
            "\u001b[1m103/103\u001b[0m \u001b[32m━━━━━━━━━━━━━━━━━━━━\u001b[0m\u001b[37m\u001b[0m \u001b[1m1s\u001b[0m 7ms/step - accuracy: 0.9676 - loss: 0.0851\n",
            "Epoch 98/100\n",
            "\u001b[1m103/103\u001b[0m \u001b[32m━━━━━━━━━━━━━━━━━━━━\u001b[0m\u001b[37m\u001b[0m \u001b[1m1s\u001b[0m 7ms/step - accuracy: 0.9662 - loss: 0.0848\n",
            "Epoch 99/100\n",
            "\u001b[1m103/103\u001b[0m \u001b[32m━━━━━━━━━━━━━━━━━━━━\u001b[0m\u001b[37m\u001b[0m \u001b[1m2s\u001b[0m 9ms/step - accuracy: 0.9731 - loss: 0.0725\n",
            "Epoch 100/100\n",
            "\u001b[1m103/103\u001b[0m \u001b[32m━━━━━━━━━━━━━━━━━━━━\u001b[0m\u001b[37m\u001b[0m \u001b[1m1s\u001b[0m 9ms/step - accuracy: 0.9725 - loss: 0.0654\n"
          ]
        },
        {
          "output_type": "execute_result",
          "data": {
            "text/plain": [
              "<keras.src.callbacks.history.History at 0x78a714cf3490>"
            ]
          },
          "metadata": {},
          "execution_count": 18
        }
      ]
    },
    {
      "cell_type": "code",
      "source": [
        "lstm.summary()"
      ],
      "metadata": {
        "colab": {
          "base_uri": "https://localhost:8080/",
          "height": 247
        },
        "id": "hTKE3gMGCidH",
        "outputId": "ecd5bf58-4c53-4c82-f9fd-f8ddcac1756b"
      },
      "id": "hTKE3gMGCidH",
      "execution_count": null,
      "outputs": [
        {
          "output_type": "display_data",
          "data": {
            "text/plain": [
              "\u001b[1mModel: \"sequential_2\"\u001b[0m\n"
            ],
            "text/html": [
              "<pre style=\"white-space:pre;overflow-x:auto;line-height:normal;font-family:Menlo,'DejaVu Sans Mono',consolas,'Courier New',monospace\"><span style=\"font-weight: bold\">Model: \"sequential_2\"</span>\n",
              "</pre>\n"
            ]
          },
          "metadata": {}
        },
        {
          "output_type": "display_data",
          "data": {
            "text/plain": [
              "┏━━━━━━━━━━━━━━━━━━━━━━━━━━━━━━━━━┳━━━━━━━━━━━━━━━━━━━━━━━━┳━━━━━━━━━━━━━━━┓\n",
              "┃\u001b[1m \u001b[0m\u001b[1mLayer (type)                   \u001b[0m\u001b[1m \u001b[0m┃\u001b[1m \u001b[0m\u001b[1mOutput Shape          \u001b[0m\u001b[1m \u001b[0m┃\u001b[1m \u001b[0m\u001b[1m      Param #\u001b[0m\u001b[1m \u001b[0m┃\n",
              "┡━━━━━━━━━━━━━━━━━━━━━━━━━━━━━━━━━╇━━━━━━━━━━━━━━━━━━━━━━━━╇━━━━━━━━━━━━━━━┩\n",
              "│ embedding_2 (\u001b[38;5;33mEmbedding\u001b[0m)         │ (\u001b[38;5;45mNone\u001b[0m, \u001b[38;5;34m68\u001b[0m, \u001b[38;5;34m300\u001b[0m)        │       \u001b[38;5;34m315,000\u001b[0m │\n",
              "├─────────────────────────────────┼────────────────────────┼───────────────┤\n",
              "│ lstm_2 (\u001b[38;5;33mLSTM\u001b[0m)                   │ (\u001b[38;5;45mNone\u001b[0m, \u001b[38;5;34m150\u001b[0m)            │       \u001b[38;5;34m270,600\u001b[0m │\n",
              "├─────────────────────────────────┼────────────────────────┼───────────────┤\n",
              "│ dense_2 (\u001b[38;5;33mDense\u001b[0m)                 │ (\u001b[38;5;45mNone\u001b[0m, \u001b[38;5;34m1050\u001b[0m)           │       \u001b[38;5;34m158,550\u001b[0m │\n",
              "└─────────────────────────────────┴────────────────────────┴───────────────┘\n"
            ],
            "text/html": [
              "<pre style=\"white-space:pre;overflow-x:auto;line-height:normal;font-family:Menlo,'DejaVu Sans Mono',consolas,'Courier New',monospace\">┏━━━━━━━━━━━━━━━━━━━━━━━━━━━━━━━━━┳━━━━━━━━━━━━━━━━━━━━━━━━┳━━━━━━━━━━━━━━━┓\n",
              "┃<span style=\"font-weight: bold\"> Layer (type)                    </span>┃<span style=\"font-weight: bold\"> Output Shape           </span>┃<span style=\"font-weight: bold\">       Param # </span>┃\n",
              "┡━━━━━━━━━━━━━━━━━━━━━━━━━━━━━━━━━╇━━━━━━━━━━━━━━━━━━━━━━━━╇━━━━━━━━━━━━━━━┩\n",
              "│ embedding_2 (<span style=\"color: #0087ff; text-decoration-color: #0087ff\">Embedding</span>)         │ (<span style=\"color: #00d7ff; text-decoration-color: #00d7ff\">None</span>, <span style=\"color: #00af00; text-decoration-color: #00af00\">68</span>, <span style=\"color: #00af00; text-decoration-color: #00af00\">300</span>)        │       <span style=\"color: #00af00; text-decoration-color: #00af00\">315,000</span> │\n",
              "├─────────────────────────────────┼────────────────────────┼───────────────┤\n",
              "│ lstm_2 (<span style=\"color: #0087ff; text-decoration-color: #0087ff\">LSTM</span>)                   │ (<span style=\"color: #00d7ff; text-decoration-color: #00d7ff\">None</span>, <span style=\"color: #00af00; text-decoration-color: #00af00\">150</span>)            │       <span style=\"color: #00af00; text-decoration-color: #00af00\">270,600</span> │\n",
              "├─────────────────────────────────┼────────────────────────┼───────────────┤\n",
              "│ dense_2 (<span style=\"color: #0087ff; text-decoration-color: #0087ff\">Dense</span>)                 │ (<span style=\"color: #00d7ff; text-decoration-color: #00d7ff\">None</span>, <span style=\"color: #00af00; text-decoration-color: #00af00\">1050</span>)           │       <span style=\"color: #00af00; text-decoration-color: #00af00\">158,550</span> │\n",
              "└─────────────────────────────────┴────────────────────────┴───────────────┘\n",
              "</pre>\n"
            ]
          },
          "metadata": {}
        },
        {
          "output_type": "display_data",
          "data": {
            "text/plain": [
              "\u001b[1m Total params: \u001b[0m\u001b[38;5;34m2,232,452\u001b[0m (8.52 MB)\n"
            ],
            "text/html": [
              "<pre style=\"white-space:pre;overflow-x:auto;line-height:normal;font-family:Menlo,'DejaVu Sans Mono',consolas,'Courier New',monospace\"><span style=\"font-weight: bold\"> Total params: </span><span style=\"color: #00af00; text-decoration-color: #00af00\">2,232,452</span> (8.52 MB)\n",
              "</pre>\n"
            ]
          },
          "metadata": {}
        },
        {
          "output_type": "display_data",
          "data": {
            "text/plain": [
              "\u001b[1m Trainable params: \u001b[0m\u001b[38;5;34m744,150\u001b[0m (2.84 MB)\n"
            ],
            "text/html": [
              "<pre style=\"white-space:pre;overflow-x:auto;line-height:normal;font-family:Menlo,'DejaVu Sans Mono',consolas,'Courier New',monospace\"><span style=\"font-weight: bold\"> Trainable params: </span><span style=\"color: #00af00; text-decoration-color: #00af00\">744,150</span> (2.84 MB)\n",
              "</pre>\n"
            ]
          },
          "metadata": {}
        },
        {
          "output_type": "display_data",
          "data": {
            "text/plain": [
              "\u001b[1m Non-trainable params: \u001b[0m\u001b[38;5;34m0\u001b[0m (0.00 B)\n"
            ],
            "text/html": [
              "<pre style=\"white-space:pre;overflow-x:auto;line-height:normal;font-family:Menlo,'DejaVu Sans Mono',consolas,'Courier New',monospace\"><span style=\"font-weight: bold\"> Non-trainable params: </span><span style=\"color: #00af00; text-decoration-color: #00af00\">0</span> (0.00 B)\n",
              "</pre>\n"
            ]
          },
          "metadata": {}
        },
        {
          "output_type": "display_data",
          "data": {
            "text/plain": [
              "\u001b[1m Optimizer params: \u001b[0m\u001b[38;5;34m1,488,302\u001b[0m (5.68 MB)\n"
            ],
            "text/html": [
              "<pre style=\"white-space:pre;overflow-x:auto;line-height:normal;font-family:Menlo,'DejaVu Sans Mono',consolas,'Courier New',monospace\"><span style=\"font-weight: bold\"> Optimizer params: </span><span style=\"color: #00af00; text-decoration-color: #00af00\">1,488,302</span> (5.68 MB)\n",
              "</pre>\n"
            ]
          },
          "metadata": {}
        }
      ]
    },
    {
      "cell_type": "code",
      "source": [
        "def complete_sentence(model, tokenizer, seed_text, num_tokens=3):\n",
        "\n",
        "    # STEP 1: Same as during training (convert the seed_text into sequences)\n",
        "    sequence = tokenizer.texts_to_sequences([seed_text])[0]\n",
        "\n",
        "    print(seed_text, end=\"\")\n",
        "\n",
        "    for _ in range(num_tokens):\n",
        "        # STEP 2: Pad the sequence\n",
        "        padded_seq = keras.preprocessing.sequence.pad_sequences([sequence], maxlen=MAX_SENTENCE_LENGTH, padding='pre')\n",
        "\n",
        "        # STEP 3: Predict next token probabilities\n",
        "        ypred = model.predict(padded_seq, verbose=0)\n",
        "\n",
        "        # STEP 4: Get the most likely token\n",
        "        tokenid = np.argmax(ypred[0])\n",
        "\n",
        "        # STEP 5: Convert token to word\n",
        "        for word, index in tokenizer.word_index.items():\n",
        "            if index == tokenid:\n",
        "                print(\" \" + '\\033[1m' + word + '\\033[0m', end=\"\")\n",
        "                break\n",
        "\n",
        "        # STEP 6: Update token_list for next prediction\n",
        "        sequence.append(tokenid)\n",
        "        sequence = sequence[-MAX_SENTENCE_LENGTH:]  # Keep only last maxlen tokens\n",
        "    print()\n",
        "\n",
        "prompt = \"modi\"\n",
        "complete_sentence(lstm, tokenizer, prompt, num_tokens=20)"
      ],
      "metadata": {
        "colab": {
          "base_uri": "https://localhost:8080/"
        },
        "collapsed": true,
        "id": "IUkx1CBL-CXt",
        "outputId": "b1dc1e3e-ea7e-4311-b2c7-6e1062f7de8d"
      },
      "id": "IUkx1CBL-CXt",
      "execution_count": null,
      "outputs": [
        {
          "output_type": "stream",
          "name": "stdout",
          "text": [
            "modi \u001b[1malso\u001b[0m \u001b[1mexpressed\u001b[0m \u001b[1mappreciation\u001b[0m \u001b[1mfor\u001b[0m \u001b[1mu\u001b[0m \u001b[1ms\u001b[0m \u001b[1mmeasures\u001b[0m \u001b[1mtaken\u001b[0m \u001b[1mto\u001b[0m \u001b[1menhance\u001b[0m \u001b[1mexports\u001b[0m \u001b[1mof\u001b[0m \u001b[1mindian\u001b[0m \u001b[1mmangoes\u001b[0m \u001b[1mand\u001b[0m \u001b[1mpomegranates\u001b[0m \u001b[1mto\u001b[0m \u001b[1mthe\u001b[0m \u001b[1munited\u001b[0m \u001b[1mstates\u001b[0m\n"
          ]
        }
      ]
    },
    {
      "cell_type": "code",
      "source": [
        "complete_sentence(lstm, tokenizer, \"modi\", num_tokens=10)"
      ],
      "metadata": {
        "colab": {
          "base_uri": "https://localhost:8080/"
        },
        "id": "DFmIC_V6DAaA",
        "outputId": "14c75202-42e9-493f-dde6-2e0ce78db91b"
      },
      "id": "DFmIC_V6DAaA",
      "execution_count": null,
      "outputs": [
        {
          "output_type": "stream",
          "name": "stdout",
          "text": [
            "modi \u001b[1malso\u001b[0m \u001b[1mexpressed\u001b[0m \u001b[1mappreciation\u001b[0m \u001b[1mfor\u001b[0m \u001b[1mu\u001b[0m \u001b[1ms\u001b[0m \u001b[1mmeasures\u001b[0m \u001b[1mtaken\u001b[0m \u001b[1mto\u001b[0m \u001b[1menhance\u001b[0m\n"
          ]
        }
      ]
    },
    {
      "cell_type": "code",
      "source": [
        "complete_sentence(lstm, tokenizer, \"trump\", num_tokens=20)\n"
      ],
      "metadata": {
        "colab": {
          "base_uri": "https://localhost:8080/"
        },
        "id": "hMpVJYM3DN9a",
        "outputId": "03ac17b4-aeb0-4944-a872-b44bc3bb2d0e"
      },
      "id": "hMpVJYM3DN9a",
      "execution_count": null,
      "outputs": [
        {
          "output_type": "stream",
          "name": "stdout",
          "text": [
            "trump \u001b[1mand\u001b[0m \u001b[1mprime\u001b[0m \u001b[1mminister\u001b[0m \u001b[1mmodi\u001b[0m \u001b[1mpledged\u001b[0m \u001b[1mto\u001b[0m \u001b[1msustain\u001b[0m \u001b[1mhigh\u001b[0m \u001b[1mlevel\u001b[0m \u001b[1mengagement\u001b[0m \u001b[1mbetween\u001b[0m \u001b[1mour\u001b[0m \u001b[1mgovernments\u001b[0m \u001b[1mindustries\u001b[0m \u001b[1mand\u001b[0m \u001b[1macademic\u001b[0m \u001b[1minstitutions\u001b[0m \u001b[1mand\u001b[0m \u001b[1mrealize\u001b[0m \u001b[1mtheir\u001b[0m\n"
          ]
        }
      ]
    }
  ],
  "metadata": {
    "kernelspec": {
      "display_name": "Python 3",
      "name": "python3"
    },
    "language_info": {
      "codemirror_mode": {
        "name": "ipython",
        "version": 3
      },
      "file_extension": ".py",
      "mimetype": "text/x-python",
      "name": "python",
      "nbconvert_exporter": "python",
      "pygments_lexer": "ipython3",
      "version": "3.11.4"
    },
    "colab": {
      "provenance": [],
      "gpuType": "T4"
    },
    "accelerator": "GPU"
  },
  "nbformat": 4,
  "nbformat_minor": 5
}