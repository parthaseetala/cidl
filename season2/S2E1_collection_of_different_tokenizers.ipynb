{
  "nbformat": 4,
  "nbformat_minor": 0,
  "metadata": {
    "colab": {
      "provenance": [],
      "authorship_tag": "ABX9TyPersY6l+4oAK2oWEaLFpVV"
    },
    "kernelspec": {
      "name": "python3",
      "display_name": "Python 3"
    },
    "language_info": {
      "name": "python"
    },
    "widgets": {
      "application/vnd.jupyter.widget-state+json": {
        "fee4bde0702f448aa5da8938e57d82f4": {
          "model_module": "@jupyter-widgets/controls",
          "model_name": "HBoxModel",
          "model_module_version": "1.5.0",
          "state": {
            "_dom_classes": [],
            "_model_module": "@jupyter-widgets/controls",
            "_model_module_version": "1.5.0",
            "_model_name": "HBoxModel",
            "_view_count": null,
            "_view_module": "@jupyter-widgets/controls",
            "_view_module_version": "1.5.0",
            "_view_name": "HBoxView",
            "box_style": "",
            "children": [
              "IPY_MODEL_1c73669ce1904d1bad4dd77ad84c125a",
              "IPY_MODEL_a6b0c8c5f5594f13a5f6f7c3b8be07d0",
              "IPY_MODEL_cba6e1471e544060a341f6f41705662c"
            ],
            "layout": "IPY_MODEL_8c956a8da8d94cbfb3c525b26e063baa"
          }
        },
        "1c73669ce1904d1bad4dd77ad84c125a": {
          "model_module": "@jupyter-widgets/controls",
          "model_name": "HTMLModel",
          "model_module_version": "1.5.0",
          "state": {
            "_dom_classes": [],
            "_model_module": "@jupyter-widgets/controls",
            "_model_module_version": "1.5.0",
            "_model_name": "HTMLModel",
            "_view_count": null,
            "_view_module": "@jupyter-widgets/controls",
            "_view_module_version": "1.5.0",
            "_view_name": "HTMLView",
            "description": "",
            "description_tooltip": null,
            "layout": "IPY_MODEL_396197144274424397ab99edfc379ea0",
            "placeholder": "​",
            "style": "IPY_MODEL_fb612cd142eb47f69fe1a5768f7ccc93",
            "value": "tokenizer_config.json: 100%"
          }
        },
        "a6b0c8c5f5594f13a5f6f7c3b8be07d0": {
          "model_module": "@jupyter-widgets/controls",
          "model_name": "FloatProgressModel",
          "model_module_version": "1.5.0",
          "state": {
            "_dom_classes": [],
            "_model_module": "@jupyter-widgets/controls",
            "_model_module_version": "1.5.0",
            "_model_name": "FloatProgressModel",
            "_view_count": null,
            "_view_module": "@jupyter-widgets/controls",
            "_view_module_version": "1.5.0",
            "_view_name": "ProgressView",
            "bar_style": "success",
            "description": "",
            "description_tooltip": null,
            "layout": "IPY_MODEL_4a0a03f9fcf94adeae27d0714b7b342b",
            "max": 48,
            "min": 0,
            "orientation": "horizontal",
            "style": "IPY_MODEL_eeaaad6fb07240179be1baffaca669bd",
            "value": 48
          }
        },
        "cba6e1471e544060a341f6f41705662c": {
          "model_module": "@jupyter-widgets/controls",
          "model_name": "HTMLModel",
          "model_module_version": "1.5.0",
          "state": {
            "_dom_classes": [],
            "_model_module": "@jupyter-widgets/controls",
            "_model_module_version": "1.5.0",
            "_model_name": "HTMLModel",
            "_view_count": null,
            "_view_module": "@jupyter-widgets/controls",
            "_view_module_version": "1.5.0",
            "_view_name": "HTMLView",
            "description": "",
            "description_tooltip": null,
            "layout": "IPY_MODEL_e900b55755d446faabad132479c81c9a",
            "placeholder": "​",
            "style": "IPY_MODEL_97d5b2e525634aba8b652936d4fcea4f",
            "value": " 48.0/48.0 [00:00&lt;00:00, 3.11kB/s]"
          }
        },
        "8c956a8da8d94cbfb3c525b26e063baa": {
          "model_module": "@jupyter-widgets/base",
          "model_name": "LayoutModel",
          "model_module_version": "1.2.0",
          "state": {
            "_model_module": "@jupyter-widgets/base",
            "_model_module_version": "1.2.0",
            "_model_name": "LayoutModel",
            "_view_count": null,
            "_view_module": "@jupyter-widgets/base",
            "_view_module_version": "1.2.0",
            "_view_name": "LayoutView",
            "align_content": null,
            "align_items": null,
            "align_self": null,
            "border": null,
            "bottom": null,
            "display": null,
            "flex": null,
            "flex_flow": null,
            "grid_area": null,
            "grid_auto_columns": null,
            "grid_auto_flow": null,
            "grid_auto_rows": null,
            "grid_column": null,
            "grid_gap": null,
            "grid_row": null,
            "grid_template_areas": null,
            "grid_template_columns": null,
            "grid_template_rows": null,
            "height": null,
            "justify_content": null,
            "justify_items": null,
            "left": null,
            "margin": null,
            "max_height": null,
            "max_width": null,
            "min_height": null,
            "min_width": null,
            "object_fit": null,
            "object_position": null,
            "order": null,
            "overflow": null,
            "overflow_x": null,
            "overflow_y": null,
            "padding": null,
            "right": null,
            "top": null,
            "visibility": null,
            "width": null
          }
        },
        "396197144274424397ab99edfc379ea0": {
          "model_module": "@jupyter-widgets/base",
          "model_name": "LayoutModel",
          "model_module_version": "1.2.0",
          "state": {
            "_model_module": "@jupyter-widgets/base",
            "_model_module_version": "1.2.0",
            "_model_name": "LayoutModel",
            "_view_count": null,
            "_view_module": "@jupyter-widgets/base",
            "_view_module_version": "1.2.0",
            "_view_name": "LayoutView",
            "align_content": null,
            "align_items": null,
            "align_self": null,
            "border": null,
            "bottom": null,
            "display": null,
            "flex": null,
            "flex_flow": null,
            "grid_area": null,
            "grid_auto_columns": null,
            "grid_auto_flow": null,
            "grid_auto_rows": null,
            "grid_column": null,
            "grid_gap": null,
            "grid_row": null,
            "grid_template_areas": null,
            "grid_template_columns": null,
            "grid_template_rows": null,
            "height": null,
            "justify_content": null,
            "justify_items": null,
            "left": null,
            "margin": null,
            "max_height": null,
            "max_width": null,
            "min_height": null,
            "min_width": null,
            "object_fit": null,
            "object_position": null,
            "order": null,
            "overflow": null,
            "overflow_x": null,
            "overflow_y": null,
            "padding": null,
            "right": null,
            "top": null,
            "visibility": null,
            "width": null
          }
        },
        "fb612cd142eb47f69fe1a5768f7ccc93": {
          "model_module": "@jupyter-widgets/controls",
          "model_name": "DescriptionStyleModel",
          "model_module_version": "1.5.0",
          "state": {
            "_model_module": "@jupyter-widgets/controls",
            "_model_module_version": "1.5.0",
            "_model_name": "DescriptionStyleModel",
            "_view_count": null,
            "_view_module": "@jupyter-widgets/base",
            "_view_module_version": "1.2.0",
            "_view_name": "StyleView",
            "description_width": ""
          }
        },
        "4a0a03f9fcf94adeae27d0714b7b342b": {
          "model_module": "@jupyter-widgets/base",
          "model_name": "LayoutModel",
          "model_module_version": "1.2.0",
          "state": {
            "_model_module": "@jupyter-widgets/base",
            "_model_module_version": "1.2.0",
            "_model_name": "LayoutModel",
            "_view_count": null,
            "_view_module": "@jupyter-widgets/base",
            "_view_module_version": "1.2.0",
            "_view_name": "LayoutView",
            "align_content": null,
            "align_items": null,
            "align_self": null,
            "border": null,
            "bottom": null,
            "display": null,
            "flex": null,
            "flex_flow": null,
            "grid_area": null,
            "grid_auto_columns": null,
            "grid_auto_flow": null,
            "grid_auto_rows": null,
            "grid_column": null,
            "grid_gap": null,
            "grid_row": null,
            "grid_template_areas": null,
            "grid_template_columns": null,
            "grid_template_rows": null,
            "height": null,
            "justify_content": null,
            "justify_items": null,
            "left": null,
            "margin": null,
            "max_height": null,
            "max_width": null,
            "min_height": null,
            "min_width": null,
            "object_fit": null,
            "object_position": null,
            "order": null,
            "overflow": null,
            "overflow_x": null,
            "overflow_y": null,
            "padding": null,
            "right": null,
            "top": null,
            "visibility": null,
            "width": null
          }
        },
        "eeaaad6fb07240179be1baffaca669bd": {
          "model_module": "@jupyter-widgets/controls",
          "model_name": "ProgressStyleModel",
          "model_module_version": "1.5.0",
          "state": {
            "_model_module": "@jupyter-widgets/controls",
            "_model_module_version": "1.5.0",
            "_model_name": "ProgressStyleModel",
            "_view_count": null,
            "_view_module": "@jupyter-widgets/base",
            "_view_module_version": "1.2.0",
            "_view_name": "StyleView",
            "bar_color": null,
            "description_width": ""
          }
        },
        "e900b55755d446faabad132479c81c9a": {
          "model_module": "@jupyter-widgets/base",
          "model_name": "LayoutModel",
          "model_module_version": "1.2.0",
          "state": {
            "_model_module": "@jupyter-widgets/base",
            "_model_module_version": "1.2.0",
            "_model_name": "LayoutModel",
            "_view_count": null,
            "_view_module": "@jupyter-widgets/base",
            "_view_module_version": "1.2.0",
            "_view_name": "LayoutView",
            "align_content": null,
            "align_items": null,
            "align_self": null,
            "border": null,
            "bottom": null,
            "display": null,
            "flex": null,
            "flex_flow": null,
            "grid_area": null,
            "grid_auto_columns": null,
            "grid_auto_flow": null,
            "grid_auto_rows": null,
            "grid_column": null,
            "grid_gap": null,
            "grid_row": null,
            "grid_template_areas": null,
            "grid_template_columns": null,
            "grid_template_rows": null,
            "height": null,
            "justify_content": null,
            "justify_items": null,
            "left": null,
            "margin": null,
            "max_height": null,
            "max_width": null,
            "min_height": null,
            "min_width": null,
            "object_fit": null,
            "object_position": null,
            "order": null,
            "overflow": null,
            "overflow_x": null,
            "overflow_y": null,
            "padding": null,
            "right": null,
            "top": null,
            "visibility": null,
            "width": null
          }
        },
        "97d5b2e525634aba8b652936d4fcea4f": {
          "model_module": "@jupyter-widgets/controls",
          "model_name": "DescriptionStyleModel",
          "model_module_version": "1.5.0",
          "state": {
            "_model_module": "@jupyter-widgets/controls",
            "_model_module_version": "1.5.0",
            "_model_name": "DescriptionStyleModel",
            "_view_count": null,
            "_view_module": "@jupyter-widgets/base",
            "_view_module_version": "1.2.0",
            "_view_name": "StyleView",
            "description_width": ""
          }
        },
        "48dcd6d2d3854dadab587171750a4aa6": {
          "model_module": "@jupyter-widgets/controls",
          "model_name": "HBoxModel",
          "model_module_version": "1.5.0",
          "state": {
            "_dom_classes": [],
            "_model_module": "@jupyter-widgets/controls",
            "_model_module_version": "1.5.0",
            "_model_name": "HBoxModel",
            "_view_count": null,
            "_view_module": "@jupyter-widgets/controls",
            "_view_module_version": "1.5.0",
            "_view_name": "HBoxView",
            "box_style": "",
            "children": [
              "IPY_MODEL_a135a8157bd74b08aef00d6baf32bc38",
              "IPY_MODEL_8fde10a6e45e46c482505e948cd9d8bd",
              "IPY_MODEL_71f36832fb6449388f1fe1b11581645e"
            ],
            "layout": "IPY_MODEL_f1163858be134ce48a78f5e01c1c138f"
          }
        },
        "a135a8157bd74b08aef00d6baf32bc38": {
          "model_module": "@jupyter-widgets/controls",
          "model_name": "HTMLModel",
          "model_module_version": "1.5.0",
          "state": {
            "_dom_classes": [],
            "_model_module": "@jupyter-widgets/controls",
            "_model_module_version": "1.5.0",
            "_model_name": "HTMLModel",
            "_view_count": null,
            "_view_module": "@jupyter-widgets/controls",
            "_view_module_version": "1.5.0",
            "_view_name": "HTMLView",
            "description": "",
            "description_tooltip": null,
            "layout": "IPY_MODEL_6f3d99c6cfbe44b09f86b5c4bb0e3d87",
            "placeholder": "​",
            "style": "IPY_MODEL_c1f170371a2e4d1b882b24ca04ef9cea",
            "value": "config.json: 100%"
          }
        },
        "8fde10a6e45e46c482505e948cd9d8bd": {
          "model_module": "@jupyter-widgets/controls",
          "model_name": "FloatProgressModel",
          "model_module_version": "1.5.0",
          "state": {
            "_dom_classes": [],
            "_model_module": "@jupyter-widgets/controls",
            "_model_module_version": "1.5.0",
            "_model_name": "FloatProgressModel",
            "_view_count": null,
            "_view_module": "@jupyter-widgets/controls",
            "_view_module_version": "1.5.0",
            "_view_name": "ProgressView",
            "bar_style": "success",
            "description": "",
            "description_tooltip": null,
            "layout": "IPY_MODEL_8ab8657fae284656bc2ff797dc6afb0b",
            "max": 570,
            "min": 0,
            "orientation": "horizontal",
            "style": "IPY_MODEL_9827c3bcff9e4ee593ce64652d5afe98",
            "value": 570
          }
        },
        "71f36832fb6449388f1fe1b11581645e": {
          "model_module": "@jupyter-widgets/controls",
          "model_name": "HTMLModel",
          "model_module_version": "1.5.0",
          "state": {
            "_dom_classes": [],
            "_model_module": "@jupyter-widgets/controls",
            "_model_module_version": "1.5.0",
            "_model_name": "HTMLModel",
            "_view_count": null,
            "_view_module": "@jupyter-widgets/controls",
            "_view_module_version": "1.5.0",
            "_view_name": "HTMLView",
            "description": "",
            "description_tooltip": null,
            "layout": "IPY_MODEL_126d5d5bf0d543ae9ab06e019939ee3e",
            "placeholder": "​",
            "style": "IPY_MODEL_66b355287a704ceabe8c8239c421bec8",
            "value": " 570/570 [00:00&lt;00:00, 40.2kB/s]"
          }
        },
        "f1163858be134ce48a78f5e01c1c138f": {
          "model_module": "@jupyter-widgets/base",
          "model_name": "LayoutModel",
          "model_module_version": "1.2.0",
          "state": {
            "_model_module": "@jupyter-widgets/base",
            "_model_module_version": "1.2.0",
            "_model_name": "LayoutModel",
            "_view_count": null,
            "_view_module": "@jupyter-widgets/base",
            "_view_module_version": "1.2.0",
            "_view_name": "LayoutView",
            "align_content": null,
            "align_items": null,
            "align_self": null,
            "border": null,
            "bottom": null,
            "display": null,
            "flex": null,
            "flex_flow": null,
            "grid_area": null,
            "grid_auto_columns": null,
            "grid_auto_flow": null,
            "grid_auto_rows": null,
            "grid_column": null,
            "grid_gap": null,
            "grid_row": null,
            "grid_template_areas": null,
            "grid_template_columns": null,
            "grid_template_rows": null,
            "height": null,
            "justify_content": null,
            "justify_items": null,
            "left": null,
            "margin": null,
            "max_height": null,
            "max_width": null,
            "min_height": null,
            "min_width": null,
            "object_fit": null,
            "object_position": null,
            "order": null,
            "overflow": null,
            "overflow_x": null,
            "overflow_y": null,
            "padding": null,
            "right": null,
            "top": null,
            "visibility": null,
            "width": null
          }
        },
        "6f3d99c6cfbe44b09f86b5c4bb0e3d87": {
          "model_module": "@jupyter-widgets/base",
          "model_name": "LayoutModel",
          "model_module_version": "1.2.0",
          "state": {
            "_model_module": "@jupyter-widgets/base",
            "_model_module_version": "1.2.0",
            "_model_name": "LayoutModel",
            "_view_count": null,
            "_view_module": "@jupyter-widgets/base",
            "_view_module_version": "1.2.0",
            "_view_name": "LayoutView",
            "align_content": null,
            "align_items": null,
            "align_self": null,
            "border": null,
            "bottom": null,
            "display": null,
            "flex": null,
            "flex_flow": null,
            "grid_area": null,
            "grid_auto_columns": null,
            "grid_auto_flow": null,
            "grid_auto_rows": null,
            "grid_column": null,
            "grid_gap": null,
            "grid_row": null,
            "grid_template_areas": null,
            "grid_template_columns": null,
            "grid_template_rows": null,
            "height": null,
            "justify_content": null,
            "justify_items": null,
            "left": null,
            "margin": null,
            "max_height": null,
            "max_width": null,
            "min_height": null,
            "min_width": null,
            "object_fit": null,
            "object_position": null,
            "order": null,
            "overflow": null,
            "overflow_x": null,
            "overflow_y": null,
            "padding": null,
            "right": null,
            "top": null,
            "visibility": null,
            "width": null
          }
        },
        "c1f170371a2e4d1b882b24ca04ef9cea": {
          "model_module": "@jupyter-widgets/controls",
          "model_name": "DescriptionStyleModel",
          "model_module_version": "1.5.0",
          "state": {
            "_model_module": "@jupyter-widgets/controls",
            "_model_module_version": "1.5.0",
            "_model_name": "DescriptionStyleModel",
            "_view_count": null,
            "_view_module": "@jupyter-widgets/base",
            "_view_module_version": "1.2.0",
            "_view_name": "StyleView",
            "description_width": ""
          }
        },
        "8ab8657fae284656bc2ff797dc6afb0b": {
          "model_module": "@jupyter-widgets/base",
          "model_name": "LayoutModel",
          "model_module_version": "1.2.0",
          "state": {
            "_model_module": "@jupyter-widgets/base",
            "_model_module_version": "1.2.0",
            "_model_name": "LayoutModel",
            "_view_count": null,
            "_view_module": "@jupyter-widgets/base",
            "_view_module_version": "1.2.0",
            "_view_name": "LayoutView",
            "align_content": null,
            "align_items": null,
            "align_self": null,
            "border": null,
            "bottom": null,
            "display": null,
            "flex": null,
            "flex_flow": null,
            "grid_area": null,
            "grid_auto_columns": null,
            "grid_auto_flow": null,
            "grid_auto_rows": null,
            "grid_column": null,
            "grid_gap": null,
            "grid_row": null,
            "grid_template_areas": null,
            "grid_template_columns": null,
            "grid_template_rows": null,
            "height": null,
            "justify_content": null,
            "justify_items": null,
            "left": null,
            "margin": null,
            "max_height": null,
            "max_width": null,
            "min_height": null,
            "min_width": null,
            "object_fit": null,
            "object_position": null,
            "order": null,
            "overflow": null,
            "overflow_x": null,
            "overflow_y": null,
            "padding": null,
            "right": null,
            "top": null,
            "visibility": null,
            "width": null
          }
        },
        "9827c3bcff9e4ee593ce64652d5afe98": {
          "model_module": "@jupyter-widgets/controls",
          "model_name": "ProgressStyleModel",
          "model_module_version": "1.5.0",
          "state": {
            "_model_module": "@jupyter-widgets/controls",
            "_model_module_version": "1.5.0",
            "_model_name": "ProgressStyleModel",
            "_view_count": null,
            "_view_module": "@jupyter-widgets/base",
            "_view_module_version": "1.2.0",
            "_view_name": "StyleView",
            "bar_color": null,
            "description_width": ""
          }
        },
        "126d5d5bf0d543ae9ab06e019939ee3e": {
          "model_module": "@jupyter-widgets/base",
          "model_name": "LayoutModel",
          "model_module_version": "1.2.0",
          "state": {
            "_model_module": "@jupyter-widgets/base",
            "_model_module_version": "1.2.0",
            "_model_name": "LayoutModel",
            "_view_count": null,
            "_view_module": "@jupyter-widgets/base",
            "_view_module_version": "1.2.0",
            "_view_name": "LayoutView",
            "align_content": null,
            "align_items": null,
            "align_self": null,
            "border": null,
            "bottom": null,
            "display": null,
            "flex": null,
            "flex_flow": null,
            "grid_area": null,
            "grid_auto_columns": null,
            "grid_auto_flow": null,
            "grid_auto_rows": null,
            "grid_column": null,
            "grid_gap": null,
            "grid_row": null,
            "grid_template_areas": null,
            "grid_template_columns": null,
            "grid_template_rows": null,
            "height": null,
            "justify_content": null,
            "justify_items": null,
            "left": null,
            "margin": null,
            "max_height": null,
            "max_width": null,
            "min_height": null,
            "min_width": null,
            "object_fit": null,
            "object_position": null,
            "order": null,
            "overflow": null,
            "overflow_x": null,
            "overflow_y": null,
            "padding": null,
            "right": null,
            "top": null,
            "visibility": null,
            "width": null
          }
        },
        "66b355287a704ceabe8c8239c421bec8": {
          "model_module": "@jupyter-widgets/controls",
          "model_name": "DescriptionStyleModel",
          "model_module_version": "1.5.0",
          "state": {
            "_model_module": "@jupyter-widgets/controls",
            "_model_module_version": "1.5.0",
            "_model_name": "DescriptionStyleModel",
            "_view_count": null,
            "_view_module": "@jupyter-widgets/base",
            "_view_module_version": "1.2.0",
            "_view_name": "StyleView",
            "description_width": ""
          }
        },
        "839e07b736354ad193af402482ab948f": {
          "model_module": "@jupyter-widgets/controls",
          "model_name": "HBoxModel",
          "model_module_version": "1.5.0",
          "state": {
            "_dom_classes": [],
            "_model_module": "@jupyter-widgets/controls",
            "_model_module_version": "1.5.0",
            "_model_name": "HBoxModel",
            "_view_count": null,
            "_view_module": "@jupyter-widgets/controls",
            "_view_module_version": "1.5.0",
            "_view_name": "HBoxView",
            "box_style": "",
            "children": [
              "IPY_MODEL_dad5d79ea5964f93984f471544f177d4",
              "IPY_MODEL_f0aa7d0c128541a5bf1d170466af02cf",
              "IPY_MODEL_328f7969910e48368fedc1d9b5de163b"
            ],
            "layout": "IPY_MODEL_2f5a5257e25c434dbafb1684909cc82f"
          }
        },
        "dad5d79ea5964f93984f471544f177d4": {
          "model_module": "@jupyter-widgets/controls",
          "model_name": "HTMLModel",
          "model_module_version": "1.5.0",
          "state": {
            "_dom_classes": [],
            "_model_module": "@jupyter-widgets/controls",
            "_model_module_version": "1.5.0",
            "_model_name": "HTMLModel",
            "_view_count": null,
            "_view_module": "@jupyter-widgets/controls",
            "_view_module_version": "1.5.0",
            "_view_name": "HTMLView",
            "description": "",
            "description_tooltip": null,
            "layout": "IPY_MODEL_e6218635ee714e6ba2cf25773c5f4c54",
            "placeholder": "​",
            "style": "IPY_MODEL_e39f7df5c90845369c485fc74cce14f2",
            "value": "vocab.txt: 100%"
          }
        },
        "f0aa7d0c128541a5bf1d170466af02cf": {
          "model_module": "@jupyter-widgets/controls",
          "model_name": "FloatProgressModel",
          "model_module_version": "1.5.0",
          "state": {
            "_dom_classes": [],
            "_model_module": "@jupyter-widgets/controls",
            "_model_module_version": "1.5.0",
            "_model_name": "FloatProgressModel",
            "_view_count": null,
            "_view_module": "@jupyter-widgets/controls",
            "_view_module_version": "1.5.0",
            "_view_name": "ProgressView",
            "bar_style": "success",
            "description": "",
            "description_tooltip": null,
            "layout": "IPY_MODEL_0176a17d984640fa9aadbd297a1bb8f7",
            "max": 231508,
            "min": 0,
            "orientation": "horizontal",
            "style": "IPY_MODEL_1d2e1f2b61f3426e83a52a53f52be3bc",
            "value": 231508
          }
        },
        "328f7969910e48368fedc1d9b5de163b": {
          "model_module": "@jupyter-widgets/controls",
          "model_name": "HTMLModel",
          "model_module_version": "1.5.0",
          "state": {
            "_dom_classes": [],
            "_model_module": "@jupyter-widgets/controls",
            "_model_module_version": "1.5.0",
            "_model_name": "HTMLModel",
            "_view_count": null,
            "_view_module": "@jupyter-widgets/controls",
            "_view_module_version": "1.5.0",
            "_view_name": "HTMLView",
            "description": "",
            "description_tooltip": null,
            "layout": "IPY_MODEL_17249ee9e33142679dc25c3f6b6793ad",
            "placeholder": "​",
            "style": "IPY_MODEL_5053a4f3d86d447d8f3765e9adc2e0b1",
            "value": " 232k/232k [00:00&lt;00:00, 5.96MB/s]"
          }
        },
        "2f5a5257e25c434dbafb1684909cc82f": {
          "model_module": "@jupyter-widgets/base",
          "model_name": "LayoutModel",
          "model_module_version": "1.2.0",
          "state": {
            "_model_module": "@jupyter-widgets/base",
            "_model_module_version": "1.2.0",
            "_model_name": "LayoutModel",
            "_view_count": null,
            "_view_module": "@jupyter-widgets/base",
            "_view_module_version": "1.2.0",
            "_view_name": "LayoutView",
            "align_content": null,
            "align_items": null,
            "align_self": null,
            "border": null,
            "bottom": null,
            "display": null,
            "flex": null,
            "flex_flow": null,
            "grid_area": null,
            "grid_auto_columns": null,
            "grid_auto_flow": null,
            "grid_auto_rows": null,
            "grid_column": null,
            "grid_gap": null,
            "grid_row": null,
            "grid_template_areas": null,
            "grid_template_columns": null,
            "grid_template_rows": null,
            "height": null,
            "justify_content": null,
            "justify_items": null,
            "left": null,
            "margin": null,
            "max_height": null,
            "max_width": null,
            "min_height": null,
            "min_width": null,
            "object_fit": null,
            "object_position": null,
            "order": null,
            "overflow": null,
            "overflow_x": null,
            "overflow_y": null,
            "padding": null,
            "right": null,
            "top": null,
            "visibility": null,
            "width": null
          }
        },
        "e6218635ee714e6ba2cf25773c5f4c54": {
          "model_module": "@jupyter-widgets/base",
          "model_name": "LayoutModel",
          "model_module_version": "1.2.0",
          "state": {
            "_model_module": "@jupyter-widgets/base",
            "_model_module_version": "1.2.0",
            "_model_name": "LayoutModel",
            "_view_count": null,
            "_view_module": "@jupyter-widgets/base",
            "_view_module_version": "1.2.0",
            "_view_name": "LayoutView",
            "align_content": null,
            "align_items": null,
            "align_self": null,
            "border": null,
            "bottom": null,
            "display": null,
            "flex": null,
            "flex_flow": null,
            "grid_area": null,
            "grid_auto_columns": null,
            "grid_auto_flow": null,
            "grid_auto_rows": null,
            "grid_column": null,
            "grid_gap": null,
            "grid_row": null,
            "grid_template_areas": null,
            "grid_template_columns": null,
            "grid_template_rows": null,
            "height": null,
            "justify_content": null,
            "justify_items": null,
            "left": null,
            "margin": null,
            "max_height": null,
            "max_width": null,
            "min_height": null,
            "min_width": null,
            "object_fit": null,
            "object_position": null,
            "order": null,
            "overflow": null,
            "overflow_x": null,
            "overflow_y": null,
            "padding": null,
            "right": null,
            "top": null,
            "visibility": null,
            "width": null
          }
        },
        "e39f7df5c90845369c485fc74cce14f2": {
          "model_module": "@jupyter-widgets/controls",
          "model_name": "DescriptionStyleModel",
          "model_module_version": "1.5.0",
          "state": {
            "_model_module": "@jupyter-widgets/controls",
            "_model_module_version": "1.5.0",
            "_model_name": "DescriptionStyleModel",
            "_view_count": null,
            "_view_module": "@jupyter-widgets/base",
            "_view_module_version": "1.2.0",
            "_view_name": "StyleView",
            "description_width": ""
          }
        },
        "0176a17d984640fa9aadbd297a1bb8f7": {
          "model_module": "@jupyter-widgets/base",
          "model_name": "LayoutModel",
          "model_module_version": "1.2.0",
          "state": {
            "_model_module": "@jupyter-widgets/base",
            "_model_module_version": "1.2.0",
            "_model_name": "LayoutModel",
            "_view_count": null,
            "_view_module": "@jupyter-widgets/base",
            "_view_module_version": "1.2.0",
            "_view_name": "LayoutView",
            "align_content": null,
            "align_items": null,
            "align_self": null,
            "border": null,
            "bottom": null,
            "display": null,
            "flex": null,
            "flex_flow": null,
            "grid_area": null,
            "grid_auto_columns": null,
            "grid_auto_flow": null,
            "grid_auto_rows": null,
            "grid_column": null,
            "grid_gap": null,
            "grid_row": null,
            "grid_template_areas": null,
            "grid_template_columns": null,
            "grid_template_rows": null,
            "height": null,
            "justify_content": null,
            "justify_items": null,
            "left": null,
            "margin": null,
            "max_height": null,
            "max_width": null,
            "min_height": null,
            "min_width": null,
            "object_fit": null,
            "object_position": null,
            "order": null,
            "overflow": null,
            "overflow_x": null,
            "overflow_y": null,
            "padding": null,
            "right": null,
            "top": null,
            "visibility": null,
            "width": null
          }
        },
        "1d2e1f2b61f3426e83a52a53f52be3bc": {
          "model_module": "@jupyter-widgets/controls",
          "model_name": "ProgressStyleModel",
          "model_module_version": "1.5.0",
          "state": {
            "_model_module": "@jupyter-widgets/controls",
            "_model_module_version": "1.5.0",
            "_model_name": "ProgressStyleModel",
            "_view_count": null,
            "_view_module": "@jupyter-widgets/base",
            "_view_module_version": "1.2.0",
            "_view_name": "StyleView",
            "bar_color": null,
            "description_width": ""
          }
        },
        "17249ee9e33142679dc25c3f6b6793ad": {
          "model_module": "@jupyter-widgets/base",
          "model_name": "LayoutModel",
          "model_module_version": "1.2.0",
          "state": {
            "_model_module": "@jupyter-widgets/base",
            "_model_module_version": "1.2.0",
            "_model_name": "LayoutModel",
            "_view_count": null,
            "_view_module": "@jupyter-widgets/base",
            "_view_module_version": "1.2.0",
            "_view_name": "LayoutView",
            "align_content": null,
            "align_items": null,
            "align_self": null,
            "border": null,
            "bottom": null,
            "display": null,
            "flex": null,
            "flex_flow": null,
            "grid_area": null,
            "grid_auto_columns": null,
            "grid_auto_flow": null,
            "grid_auto_rows": null,
            "grid_column": null,
            "grid_gap": null,
            "grid_row": null,
            "grid_template_areas": null,
            "grid_template_columns": null,
            "grid_template_rows": null,
            "height": null,
            "justify_content": null,
            "justify_items": null,
            "left": null,
            "margin": null,
            "max_height": null,
            "max_width": null,
            "min_height": null,
            "min_width": null,
            "object_fit": null,
            "object_position": null,
            "order": null,
            "overflow": null,
            "overflow_x": null,
            "overflow_y": null,
            "padding": null,
            "right": null,
            "top": null,
            "visibility": null,
            "width": null
          }
        },
        "5053a4f3d86d447d8f3765e9adc2e0b1": {
          "model_module": "@jupyter-widgets/controls",
          "model_name": "DescriptionStyleModel",
          "model_module_version": "1.5.0",
          "state": {
            "_model_module": "@jupyter-widgets/controls",
            "_model_module_version": "1.5.0",
            "_model_name": "DescriptionStyleModel",
            "_view_count": null,
            "_view_module": "@jupyter-widgets/base",
            "_view_module_version": "1.2.0",
            "_view_name": "StyleView",
            "description_width": ""
          }
        },
        "73e384aa1259424c87422fa8de283d78": {
          "model_module": "@jupyter-widgets/controls",
          "model_name": "HBoxModel",
          "model_module_version": "1.5.0",
          "state": {
            "_dom_classes": [],
            "_model_module": "@jupyter-widgets/controls",
            "_model_module_version": "1.5.0",
            "_model_name": "HBoxModel",
            "_view_count": null,
            "_view_module": "@jupyter-widgets/controls",
            "_view_module_version": "1.5.0",
            "_view_name": "HBoxView",
            "box_style": "",
            "children": [
              "IPY_MODEL_4f6538806756442798629a6bd73bdab0",
              "IPY_MODEL_b2f15fc2cbec4dd3a3bfcba8e86c7a4e",
              "IPY_MODEL_8650d0aab94f42e7bc43be9acc47f968"
            ],
            "layout": "IPY_MODEL_8d9515ba961842888aaf82c902020cc4"
          }
        },
        "4f6538806756442798629a6bd73bdab0": {
          "model_module": "@jupyter-widgets/controls",
          "model_name": "HTMLModel",
          "model_module_version": "1.5.0",
          "state": {
            "_dom_classes": [],
            "_model_module": "@jupyter-widgets/controls",
            "_model_module_version": "1.5.0",
            "_model_name": "HTMLModel",
            "_view_count": null,
            "_view_module": "@jupyter-widgets/controls",
            "_view_module_version": "1.5.0",
            "_view_name": "HTMLView",
            "description": "",
            "description_tooltip": null,
            "layout": "IPY_MODEL_258f46e8e68e4e77b4cb38075fa0f7ed",
            "placeholder": "​",
            "style": "IPY_MODEL_7f45a7f067af48e3b04d4d587fa5ffc6",
            "value": "tokenizer.json: 100%"
          }
        },
        "b2f15fc2cbec4dd3a3bfcba8e86c7a4e": {
          "model_module": "@jupyter-widgets/controls",
          "model_name": "FloatProgressModel",
          "model_module_version": "1.5.0",
          "state": {
            "_dom_classes": [],
            "_model_module": "@jupyter-widgets/controls",
            "_model_module_version": "1.5.0",
            "_model_name": "FloatProgressModel",
            "_view_count": null,
            "_view_module": "@jupyter-widgets/controls",
            "_view_module_version": "1.5.0",
            "_view_name": "ProgressView",
            "bar_style": "success",
            "description": "",
            "description_tooltip": null,
            "layout": "IPY_MODEL_f2567a3728d44c51baadc0d13d08c5fe",
            "max": 466062,
            "min": 0,
            "orientation": "horizontal",
            "style": "IPY_MODEL_95c91f7b6fce47f08a6eaf16e4f0f9d2",
            "value": 466062
          }
        },
        "8650d0aab94f42e7bc43be9acc47f968": {
          "model_module": "@jupyter-widgets/controls",
          "model_name": "HTMLModel",
          "model_module_version": "1.5.0",
          "state": {
            "_dom_classes": [],
            "_model_module": "@jupyter-widgets/controls",
            "_model_module_version": "1.5.0",
            "_model_name": "HTMLModel",
            "_view_count": null,
            "_view_module": "@jupyter-widgets/controls",
            "_view_module_version": "1.5.0",
            "_view_name": "HTMLView",
            "description": "",
            "description_tooltip": null,
            "layout": "IPY_MODEL_8ab47536d175457a984c5fa44c0c2abd",
            "placeholder": "​",
            "style": "IPY_MODEL_72ca5806bc87462c892b37a6528b30c8",
            "value": " 466k/466k [00:00&lt;00:00, 18.1MB/s]"
          }
        },
        "8d9515ba961842888aaf82c902020cc4": {
          "model_module": "@jupyter-widgets/base",
          "model_name": "LayoutModel",
          "model_module_version": "1.2.0",
          "state": {
            "_model_module": "@jupyter-widgets/base",
            "_model_module_version": "1.2.0",
            "_model_name": "LayoutModel",
            "_view_count": null,
            "_view_module": "@jupyter-widgets/base",
            "_view_module_version": "1.2.0",
            "_view_name": "LayoutView",
            "align_content": null,
            "align_items": null,
            "align_self": null,
            "border": null,
            "bottom": null,
            "display": null,
            "flex": null,
            "flex_flow": null,
            "grid_area": null,
            "grid_auto_columns": null,
            "grid_auto_flow": null,
            "grid_auto_rows": null,
            "grid_column": null,
            "grid_gap": null,
            "grid_row": null,
            "grid_template_areas": null,
            "grid_template_columns": null,
            "grid_template_rows": null,
            "height": null,
            "justify_content": null,
            "justify_items": null,
            "left": null,
            "margin": null,
            "max_height": null,
            "max_width": null,
            "min_height": null,
            "min_width": null,
            "object_fit": null,
            "object_position": null,
            "order": null,
            "overflow": null,
            "overflow_x": null,
            "overflow_y": null,
            "padding": null,
            "right": null,
            "top": null,
            "visibility": null,
            "width": null
          }
        },
        "258f46e8e68e4e77b4cb38075fa0f7ed": {
          "model_module": "@jupyter-widgets/base",
          "model_name": "LayoutModel",
          "model_module_version": "1.2.0",
          "state": {
            "_model_module": "@jupyter-widgets/base",
            "_model_module_version": "1.2.0",
            "_model_name": "LayoutModel",
            "_view_count": null,
            "_view_module": "@jupyter-widgets/base",
            "_view_module_version": "1.2.0",
            "_view_name": "LayoutView",
            "align_content": null,
            "align_items": null,
            "align_self": null,
            "border": null,
            "bottom": null,
            "display": null,
            "flex": null,
            "flex_flow": null,
            "grid_area": null,
            "grid_auto_columns": null,
            "grid_auto_flow": null,
            "grid_auto_rows": null,
            "grid_column": null,
            "grid_gap": null,
            "grid_row": null,
            "grid_template_areas": null,
            "grid_template_columns": null,
            "grid_template_rows": null,
            "height": null,
            "justify_content": null,
            "justify_items": null,
            "left": null,
            "margin": null,
            "max_height": null,
            "max_width": null,
            "min_height": null,
            "min_width": null,
            "object_fit": null,
            "object_position": null,
            "order": null,
            "overflow": null,
            "overflow_x": null,
            "overflow_y": null,
            "padding": null,
            "right": null,
            "top": null,
            "visibility": null,
            "width": null
          }
        },
        "7f45a7f067af48e3b04d4d587fa5ffc6": {
          "model_module": "@jupyter-widgets/controls",
          "model_name": "DescriptionStyleModel",
          "model_module_version": "1.5.0",
          "state": {
            "_model_module": "@jupyter-widgets/controls",
            "_model_module_version": "1.5.0",
            "_model_name": "DescriptionStyleModel",
            "_view_count": null,
            "_view_module": "@jupyter-widgets/base",
            "_view_module_version": "1.2.0",
            "_view_name": "StyleView",
            "description_width": ""
          }
        },
        "f2567a3728d44c51baadc0d13d08c5fe": {
          "model_module": "@jupyter-widgets/base",
          "model_name": "LayoutModel",
          "model_module_version": "1.2.0",
          "state": {
            "_model_module": "@jupyter-widgets/base",
            "_model_module_version": "1.2.0",
            "_model_name": "LayoutModel",
            "_view_count": null,
            "_view_module": "@jupyter-widgets/base",
            "_view_module_version": "1.2.0",
            "_view_name": "LayoutView",
            "align_content": null,
            "align_items": null,
            "align_self": null,
            "border": null,
            "bottom": null,
            "display": null,
            "flex": null,
            "flex_flow": null,
            "grid_area": null,
            "grid_auto_columns": null,
            "grid_auto_flow": null,
            "grid_auto_rows": null,
            "grid_column": null,
            "grid_gap": null,
            "grid_row": null,
            "grid_template_areas": null,
            "grid_template_columns": null,
            "grid_template_rows": null,
            "height": null,
            "justify_content": null,
            "justify_items": null,
            "left": null,
            "margin": null,
            "max_height": null,
            "max_width": null,
            "min_height": null,
            "min_width": null,
            "object_fit": null,
            "object_position": null,
            "order": null,
            "overflow": null,
            "overflow_x": null,
            "overflow_y": null,
            "padding": null,
            "right": null,
            "top": null,
            "visibility": null,
            "width": null
          }
        },
        "95c91f7b6fce47f08a6eaf16e4f0f9d2": {
          "model_module": "@jupyter-widgets/controls",
          "model_name": "ProgressStyleModel",
          "model_module_version": "1.5.0",
          "state": {
            "_model_module": "@jupyter-widgets/controls",
            "_model_module_version": "1.5.0",
            "_model_name": "ProgressStyleModel",
            "_view_count": null,
            "_view_module": "@jupyter-widgets/base",
            "_view_module_version": "1.2.0",
            "_view_name": "StyleView",
            "bar_color": null,
            "description_width": ""
          }
        },
        "8ab47536d175457a984c5fa44c0c2abd": {
          "model_module": "@jupyter-widgets/base",
          "model_name": "LayoutModel",
          "model_module_version": "1.2.0",
          "state": {
            "_model_module": "@jupyter-widgets/base",
            "_model_module_version": "1.2.0",
            "_model_name": "LayoutModel",
            "_view_count": null,
            "_view_module": "@jupyter-widgets/base",
            "_view_module_version": "1.2.0",
            "_view_name": "LayoutView",
            "align_content": null,
            "align_items": null,
            "align_self": null,
            "border": null,
            "bottom": null,
            "display": null,
            "flex": null,
            "flex_flow": null,
            "grid_area": null,
            "grid_auto_columns": null,
            "grid_auto_flow": null,
            "grid_auto_rows": null,
            "grid_column": null,
            "grid_gap": null,
            "grid_row": null,
            "grid_template_areas": null,
            "grid_template_columns": null,
            "grid_template_rows": null,
            "height": null,
            "justify_content": null,
            "justify_items": null,
            "left": null,
            "margin": null,
            "max_height": null,
            "max_width": null,
            "min_height": null,
            "min_width": null,
            "object_fit": null,
            "object_position": null,
            "order": null,
            "overflow": null,
            "overflow_x": null,
            "overflow_y": null,
            "padding": null,
            "right": null,
            "top": null,
            "visibility": null,
            "width": null
          }
        },
        "72ca5806bc87462c892b37a6528b30c8": {
          "model_module": "@jupyter-widgets/controls",
          "model_name": "DescriptionStyleModel",
          "model_module_version": "1.5.0",
          "state": {
            "_model_module": "@jupyter-widgets/controls",
            "_model_module_version": "1.5.0",
            "_model_name": "DescriptionStyleModel",
            "_view_count": null,
            "_view_module": "@jupyter-widgets/base",
            "_view_module_version": "1.2.0",
            "_view_name": "StyleView",
            "description_width": ""
          }
        }
      }
    }
  },
  "cells": [
    {
      "cell_type": "markdown",
      "source": [
        "# **Collection of Different Tokenizers**\n",
        "\n",
        "### **Author: Partha Seetala**\n",
        "\n",
        "**Video Tutorial: https://www.youtube.com/watch?v=Oy48ZLHAUg0**\n",
        "\n",
        "*   Rule based tokenization (character, whitespace, word boundary)\n",
        "*   NLTK Tokenizer\n",
        "*   gensim Tokenizer\n",
        "*   HuggingFace Tokenizer\n",
        "\n"
      ],
      "metadata": {
        "id": "KrwBFElFFIiy"
      }
    },
    {
      "cell_type": "markdown",
      "source": [
        "# **Input text string**"
      ],
      "metadata": {
        "id": "G91UxpZ3m-CE"
      }
    },
    {
      "cell_type": "code",
      "source": [
        "raw_text = \"I can't believe how unbelievably fast AI can handle 'BERTification'!\"\n",
        "\n",
        "text = raw_text.lower()  # Lower case it (capitals don't really matter)"
      ],
      "metadata": {
        "id": "Wg_Ky3gHm8qN"
      },
      "execution_count": null,
      "outputs": []
    },
    {
      "cell_type": "markdown",
      "source": [
        "# **Utility Functions**"
      ],
      "metadata": {
        "id": "JJiG8dpvmeh4"
      }
    },
    {
      "cell_type": "code",
      "source": [
        "# Load our hugging face token\n",
        "from google.colab import drive\n",
        "import os\n",
        "\n",
        "drive.mount('/content/drive')\n",
        "\n",
        "with open('/content/drive/My Drive/cidl/hf.token', 'r') as file:\n",
        "    huggingface_token = file.read().strip()\n",
        "\n",
        "os.environ['HF_TOKEN'] = huggingface_token"
      ],
      "metadata": {
        "id": "6JbpMC_MFJ6e",
        "colab": {
          "base_uri": "https://localhost:8080/"
        },
        "outputId": "926df7e8-c2d1-4b8b-e803-216e26009df4"
      },
      "execution_count": null,
      "outputs": [
        {
          "output_type": "stream",
          "name": "stdout",
          "text": [
            "Mounted at /content/drive\n"
          ]
        }
      ]
    },
    {
      "cell_type": "code",
      "source": [
        "# @title\n",
        "def makevocab(tokens, tok2id={}, id2tok={}):\n",
        "    current_id = 0\n",
        "    for tok in tokens:\n",
        "        if tok not in tok2id:\n",
        "            tok2id[tok] = current_id\n",
        "            id2tok[current_id] = tok\n",
        "            current_id += 1\n",
        "\n",
        "    return tok2id, id2tok\n",
        "\n",
        "def show(vocab, tokens):\n",
        "    print(\"\\nTokens: \", len(tokens), \"\\n[\", end=\"\")\n",
        "    for tok in tokens:\n",
        "        print(\"{}, \".format(tok), end=\"\")\n",
        "        #print(tok, \", \", end=\"\")\n",
        "    print(\"]\")\n",
        "    print(\"\\nVocab: \", len(vocab), \"\\n[\", end=\"\")\n",
        "    for tok in vocab:\n",
        "        print(\"{}={}, \".format(tok, vocab[tok]), end=\"\")\n",
        "        #print(tok, \": \", vocab[tok], \", \", end=\"\")\n",
        "    print(\"]\")"
      ],
      "metadata": {
        "id": "mzwV1ZCHDRM8"
      },
      "execution_count": null,
      "outputs": []
    },
    {
      "cell_type": "code",
      "source": [],
      "metadata": {
        "id": "YUghSULaKq5N"
      },
      "execution_count": null,
      "outputs": []
    },
    {
      "cell_type": "markdown",
      "source": [
        "# **Basic Tokenizers**"
      ],
      "metadata": {
        "id": "_m2bRhPXnZKA"
      }
    },
    {
      "cell_type": "markdown",
      "source": [
        "**Most Basic Tokenizer #1 (``Character Based``)**"
      ],
      "metadata": {
        "id": "hUMW2I3JJWJH"
      }
    },
    {
      "cell_type": "code",
      "source": [
        "tokens = list(text)\n",
        "vocab, _ = makevocab(tokens)\n",
        "\n",
        "show(vocab, tokens)"
      ],
      "metadata": {
        "id": "cpad4_M_JetC",
        "colab": {
          "base_uri": "https://localhost:8080/"
        },
        "outputId": "0a87fecd-df67-44ad-8ba6-daa0b0d2cf7d",
        "collapsed": true
      },
      "execution_count": null,
      "outputs": [
        {
          "output_type": "stream",
          "name": "stdout",
          "text": [
            "\n",
            "Tokens:  68 \n",
            "[i,  , c, a, n, ', t,  , b, e, l, i, e, v, e,  , h, o, w,  , u, n, b, e, l, i, e, v, a, b, l, y,  , f, a, s, t,  , a, i,  , c, a, n,  , h, a, n, d, l, e,  , ', b, e, r, t, i, f, i, c, a, t, i, o, n, ', !, ]\n",
            "\n",
            "Vocab:  21 \n",
            "[i=0,  =1, c=2, a=3, n=4, '=5, t=6, b=7, e=8, l=9, v=10, h=11, o=12, w=13, u=14, y=15, f=16, s=17, d=18, r=19, !=20, ]\n"
          ]
        }
      ]
    },
    {
      "cell_type": "markdown",
      "source": [
        "**Most Basic Tokenizer #2 (``Whitespace Based``)**"
      ],
      "metadata": {
        "id": "4HNsZgNmJfS0"
      }
    },
    {
      "cell_type": "code",
      "source": [
        "tokens = text.split()\n",
        "vocab, _ = makevocab(tokens)\n",
        "\n",
        "show(vocab, tokens)"
      ],
      "metadata": {
        "id": "VppdWm_FJoc1",
        "colab": {
          "base_uri": "https://localhost:8080/"
        },
        "outputId": "f5ff4577-8eeb-4809-facc-8ebcd80153cb"
      },
      "execution_count": null,
      "outputs": [
        {
          "output_type": "stream",
          "name": "stdout",
          "text": [
            "\n",
            "Tokens:  10 \n",
            "[i, can't, believe, how, unbelievably, fast, ai, can, handle, 'bertification'!, ]\n",
            "\n",
            "Vocab:  30 \n",
            "[i=0,  =1, c=2, a=3, n=4, '=5, t=6, b=7, e=8, l=9, v=10, h=11, o=12, w=13, u=14, y=15, f=16, s=17, d=18, r=19, !=20, can't=0, believe=1, how=2, unbelievably=3, fast=4, ai=5, can=6, handle=7, 'bertification'!=8, ]\n"
          ]
        }
      ]
    },
    {
      "cell_type": "markdown",
      "source": [
        "**Most Basic Tokenizer #3 (``Word Based``)**\n",
        "Enhacement to whitespace tokenizer where we also split across punctuation symbols"
      ],
      "metadata": {
        "id": "eLwUg8eHJpBM"
      }
    },
    {
      "cell_type": "code",
      "source": [
        "import re\n",
        "word_tokens = re.findall(r'\\w+|[^\\w\\s]', text, re.UNICODE)\n",
        "vocab, _ = makevocab(word_tokens)\n",
        "\n",
        "show(vocab, word_tokens)"
      ],
      "metadata": {
        "colab": {
          "base_uri": "https://localhost:8080/"
        },
        "id": "GdoV5yyhJ0Yn",
        "outputId": "4c3ea9cb-74e7-463c-c228-225a51e69e43"
      },
      "execution_count": null,
      "outputs": [
        {
          "output_type": "stream",
          "name": "stdout",
          "text": [
            "\n",
            "Tokens:  15 \n",
            "[i, can, ', t, believe, how, unbelievably, fast, ai, can, handle, ', bertification, ', !, ]\n",
            "\n",
            "Vocab:  31 \n",
            "[i=0,  =1, c=2, a=3, n=4, '=5, t=6, b=7, e=8, l=9, v=10, h=11, o=12, w=13, u=14, y=15, f=16, s=17, d=18, r=19, !=20, can't=0, believe=1, how=2, unbelievably=3, fast=4, ai=5, can=6, handle=7, 'bertification'!=8, bertification=0, ]\n"
          ]
        }
      ]
    },
    {
      "cell_type": "code",
      "source": [
        "def buildvocab(sentences):\n",
        "    tok2id = {}\n",
        "    id2tok = {}\n",
        "    idx = 0\n",
        "    for sent in sentences:\n",
        "        text  = sent.lower()\n",
        "        tokens = text.split()\n",
        "        for tok in tokens:\n",
        "            if tok not in tok2id:\n",
        "                tok2id[tok] = idx\n",
        "                id2tok[idx] = tok\n",
        "                idx += 1\n",
        "    return tok2id\n",
        "\n",
        "def printvocab(vocab):\n",
        "    print(\"Vocab: \", len(vocab), \" tokens\\n[\", end=\"\")\n",
        "    for i,tok in enumerate(vocab):\n",
        "        end = \"\" if (i+1) % 6  else \"\\n \"\n",
        "        v = \"{}={},\".format(tok, i)\n",
        "        print(\"{:<15} \".format(v), end=end)\n",
        "    print(\"]\\n\")\n",
        "\n",
        "def check_tokens_in_vocab(vocab, sentences):\n",
        "    print(\"-\" * 80)\n",
        "    ntoks = 0\n",
        "    nfound = 0\n",
        "    noov = 0\n",
        "    for sent in sentences:\n",
        "        text  = sent.lower()\n",
        "        tokens = text.split()\n",
        "        print(text)\n",
        "\n",
        "        found = []\n",
        "        oov = []\n",
        "        for tok in tokens:\n",
        "            ntoks += 1\n",
        "            if tok not in vocab:\n",
        "                oov.append(tok)\n",
        "                noov += 1\n",
        "            else:\n",
        "                found.append(tok)\n",
        "                nfound += 1\n",
        "        print(\"tokens: \", len(tokens), \"    \", tokens)\n",
        "        print(\" found: \", len(found), \"{:3.0f}%\".format(100.0* len(found)/len(tokens)),  found)\n",
        "        print(\"   OOV: \", len(oov), \"{:3.0f}%\".format(100.0* len(oov)/len(tokens)), oov)\n",
        "        print(\"\\n\")\n",
        "\n",
        "    print(\"Total tokens: {:2d}, found={:2d} ({:2.0f}%),  OOV={:2d} ({:2.0f}%)\".\n",
        "          format(ntoks, nfound, 100*(nfound/ntoks), noov, 100.0*(noov/ntoks)))"
      ],
      "metadata": {
        "id": "BBYbYD9r0Q8K"
      },
      "execution_count": null,
      "outputs": []
    },
    {
      "cell_type": "code",
      "source": [
        "training1 = [\n",
        "    \"the football player is playing the play the coach called\",\n",
        "    \"my dog runs faster than most runners\",\n",
        "    \"pack your toothbrush and toothpaste everytime\"\n",
        "]\n",
        "\n",
        "\n",
        "vocab1 = buildvocab(training1)\n",
        "printvocab(vocab1)\n",
        "\n",
        "\n",
        "inference1 = [\n",
        "    \"my dog played ball with her foot\",\n",
        "    \"coach has been running everyday\",\n",
        "    \"I have a toothache so I brush everyday\"\n",
        "]\n",
        "\n",
        "check_tokens_in_vocab(vocab1, inference1)"
      ],
      "metadata": {
        "colab": {
          "base_uri": "https://localhost:8080/"
        },
        "id": "-oamEJa-qWdU",
        "outputId": "cba26c84-cece-4b64-f673-b0f502d48c16"
      },
      "execution_count": null,
      "outputs": [
        {
          "output_type": "stream",
          "name": "stdout",
          "text": [
            "Vocab:  21  tokens\n",
            "[the=0,          football=1,     player=2,       is=3,           playing=4,      play=5,         \n",
            " coach=6,        called=7,       my=8,           dog=9,          runs=10,        faster=11,      \n",
            " than=12,        most=13,        runners=14,     pack=15,        your=16,        toothbrush=17,  \n",
            " and=18,         toothpaste=19,  everytime=20,   ]\n",
            "\n",
            "--------------------------------------------------------------------------------\n",
            "my dog played ball with her foot\n",
            "tokens:  7      ['my', 'dog', 'played', 'ball', 'with', 'her', 'foot']\n",
            " found:  2  29% ['my', 'dog']\n",
            "   OOV:  5  71% ['played', 'ball', 'with', 'her', 'foot']\n",
            "\n",
            "\n",
            "coach has been running everyday\n",
            "tokens:  5      ['coach', 'has', 'been', 'running', 'everyday']\n",
            " found:  1  20% ['coach']\n",
            "   OOV:  4  80% ['has', 'been', 'running', 'everyday']\n",
            "\n",
            "\n",
            "i have a toothache so i brush everyday\n",
            "tokens:  8      ['i', 'have', 'a', 'toothache', 'so', 'i', 'brush', 'everyday']\n",
            " found:  0   0% []\n",
            "   OOV:  8 100% ['i', 'have', 'a', 'toothache', 'so', 'i', 'brush', 'everyday']\n",
            "\n",
            "\n",
            "Total tokens: 20, found= 3 (15%),  OOV=17 (85%)\n"
          ]
        }
      ]
    },
    {
      "cell_type": "code",
      "source": [
        "training2 = [\n",
        "    \"the foot ball play er is play ing the play the coach called\",\n",
        "    \"my dog runs fast er than most run ners\",\n",
        "    \"pack your tooth brush and tooth paste every time\"\n",
        "]\n",
        "\n",
        "\n",
        "vocab2 = buildvocab(training2)\n",
        "printvocab(vocab2)\n",
        "\n",
        "\n",
        "inference2 = [\n",
        "    \"my dog play ed ball with her foot\",\n",
        "    \"coach has been run ning every day\",\n",
        "    \"I have a tooth ache so I brush every day\"\n",
        "]\n",
        "\n",
        "check_tokens_in_vocab(vocab2, inference2)"
      ],
      "metadata": {
        "colab": {
          "base_uri": "https://localhost:8080/"
        },
        "id": "4apDzATI2Av0",
        "outputId": "ae0270d3-f219-44f2-9d80-07060578ca2b"
      },
      "execution_count": null,
      "outputs": [
        {
          "output_type": "stream",
          "name": "stdout",
          "text": [
            "Vocab:  25  tokens\n",
            "[the=0,          foot=1,         ball=2,         play=3,         er=4,           is=5,           \n",
            " ing=6,          coach=7,        called=8,       my=9,           dog=10,         runs=11,        \n",
            " fast=12,        than=13,        most=14,        run=15,         ners=16,        pack=17,        \n",
            " your=18,        tooth=19,       brush=20,       and=21,         paste=22,       every=23,       \n",
            " time=24,        ]\n",
            "\n",
            "--------------------------------------------------------------------------------\n",
            "my dog play ed ball with her foot\n",
            "tokens:  8      ['my', 'dog', 'play', 'ed', 'ball', 'with', 'her', 'foot']\n",
            " found:  5  62% ['my', 'dog', 'play', 'ball', 'foot']\n",
            "   OOV:  3  38% ['ed', 'with', 'her']\n",
            "\n",
            "\n",
            "coach has been run ning every day\n",
            "tokens:  7      ['coach', 'has', 'been', 'run', 'ning', 'every', 'day']\n",
            " found:  3  43% ['coach', 'run', 'every']\n",
            "   OOV:  4  57% ['has', 'been', 'ning', 'day']\n",
            "\n",
            "\n",
            "i have a tooth ache so i brush every day\n",
            "tokens:  10      ['i', 'have', 'a', 'tooth', 'ache', 'so', 'i', 'brush', 'every', 'day']\n",
            " found:  3  30% ['tooth', 'brush', 'every']\n",
            "   OOV:  7  70% ['i', 'have', 'a', 'ache', 'so', 'i', 'day']\n",
            "\n",
            "\n",
            "Total tokens: 25, found=11 (44%),  OOV=14 (56%)\n"
          ]
        }
      ]
    },
    {
      "cell_type": "markdown",
      "source": [
        "# **Using NLTK's Punkt Library**"
      ],
      "metadata": {
        "id": "lSvpVxrtNfJT"
      }
    },
    {
      "cell_type": "code",
      "source": [
        "import nltk\n",
        "from nltk.tokenize import sent_tokenize, word_tokenize\n",
        "from nltk.data import find\n",
        "import os\n",
        "\n",
        "# Download Punkt tokenizer for sentence boundary detection in natural language processing\n",
        "def download_punkt():\n",
        "    try:\n",
        "        find('tokenizers/punkt')\n",
        "    except LookupError:\n",
        "        nltk.download('punkt')\n",
        "\n",
        "download_punkt()\n",
        "\n",
        "\n",
        "# Tokenize the text using NLTK's word_tokenize\n",
        "nltk_tokens = word_tokenize(text)\n",
        "\n",
        "print(\"NLTK based tokenization: {} tokens\".format(len(nltk_tokens)))\n",
        "print(nltk_tokens)\n",
        "\n",
        "# Tokenize the text using NLTK's sent_tokenize\n",
        "nltk_sentences = sent_tokenize(text)\n",
        "\n",
        "print(\"\\nNLTK based sentence tokenization: {} sentences\".format(len(nltk_sentences)))\n",
        "print(nltk_sentences)"
      ],
      "metadata": {
        "colab": {
          "base_uri": "https://localhost:8080/",
          "height": 252
        },
        "id": "MrKvv4ZONiUb",
        "outputId": "b3795cca-f5c1-446c-d0d1-bb9b5cf88778"
      },
      "execution_count": null,
      "outputs": [
        {
          "output_type": "stream",
          "name": "stderr",
          "text": [
            "[nltk_data] Downloading package punkt to /root/nltk_data...\n",
            "[nltk_data]   Unzipping tokenizers/punkt.zip.\n"
          ]
        },
        {
          "output_type": "error",
          "ename": "NameError",
          "evalue": "name 'text' is not defined",
          "traceback": [
            "\u001b[0;31m---------------------------------------------------------------------------\u001b[0m",
            "\u001b[0;31mNameError\u001b[0m                                 Traceback (most recent call last)",
            "\u001b[0;32m<ipython-input-4-4a4477c12dce>\u001b[0m in \u001b[0;36m<cell line: 0>\u001b[0;34m()\u001b[0m\n\u001b[1;32m     15\u001b[0m \u001b[0;34m\u001b[0m\u001b[0m\n\u001b[1;32m     16\u001b[0m \u001b[0;31m# Tokenize the text using NLTK's word_tokenize\u001b[0m\u001b[0;34m\u001b[0m\u001b[0;34m\u001b[0m\u001b[0m\n\u001b[0;32m---> 17\u001b[0;31m \u001b[0mnltk_tokens\u001b[0m \u001b[0;34m=\u001b[0m \u001b[0mword_tokenize\u001b[0m\u001b[0;34m(\u001b[0m\u001b[0mtext\u001b[0m\u001b[0;34m)\u001b[0m\u001b[0;34m\u001b[0m\u001b[0;34m\u001b[0m\u001b[0m\n\u001b[0m\u001b[1;32m     18\u001b[0m \u001b[0;34m\u001b[0m\u001b[0m\n\u001b[1;32m     19\u001b[0m \u001b[0mprint\u001b[0m\u001b[0;34m(\u001b[0m\u001b[0;34m\"NLTK based tokenization: {} tokens\"\u001b[0m\u001b[0;34m.\u001b[0m\u001b[0mformat\u001b[0m\u001b[0;34m(\u001b[0m\u001b[0mlen\u001b[0m\u001b[0;34m(\u001b[0m\u001b[0mnltk_tokens\u001b[0m\u001b[0;34m)\u001b[0m\u001b[0;34m)\u001b[0m\u001b[0;34m)\u001b[0m\u001b[0;34m\u001b[0m\u001b[0;34m\u001b[0m\u001b[0m\n",
            "\u001b[0;31mNameError\u001b[0m: name 'text' is not defined"
          ]
        }
      ]
    },
    {
      "cell_type": "markdown",
      "source": [
        "# **Using ``gensim`` Library**"
      ],
      "metadata": {
        "id": "kKnrFCAPWeA3"
      }
    },
    {
      "cell_type": "code",
      "source": [
        "!pip install --upgrade numpy\n",
        "!pip install --upgrade gensim"
      ],
      "metadata": {
        "id": "LJvSo8yCmV58"
      },
      "execution_count": null,
      "outputs": []
    },
    {
      "cell_type": "code",
      "source": [
        "from gensim.utils import simple_preprocess\n",
        "\n",
        "\n",
        "# Gensim simple_preprocess() library does the following:\n",
        "# (1) converts text to lower-case\n",
        "# (2) Splits text into individual words\n",
        "# (3) Removes punctuation marks, ensuring only words and numbers remain\n",
        "# (4) Filter short words -- by default discards words shorter than 2 characters or longer than 15 characters (so long URLs/SHA hashes will be discarded)\n",
        "# (4) Only retains alphanumeric words\n",
        "gensim_tokens = simple_preprocess(raw_text)\n",
        "\n",
        "print(\"Gensim based tokenization: {} tokens\".format(len(gensim_tokens)))\n",
        "print(gensim_tokens)"
      ],
      "metadata": {
        "colab": {
          "base_uri": "https://localhost:8080/"
        },
        "id": "R0jKW_eVWjoN",
        "outputId": "584b4202-0800-40cc-fa1f-1a156d8d1243"
      },
      "execution_count": null,
      "outputs": [
        {
          "output_type": "stream",
          "name": "stdout",
          "text": [
            "Gensim based tokenization: 9 tokens\n",
            "['can', 'believe', 'how', 'unbelievably', 'fast', 'ai', 'can', 'handle', 'bertification']\n"
          ]
        }
      ]
    },
    {
      "cell_type": "markdown",
      "source": [
        "# **Using HuggingFace Library**"
      ],
      "metadata": {
        "id": "q5roJpzfmtkC"
      }
    },
    {
      "cell_type": "code",
      "source": [
        "# Load our hugging face token\n",
        "from google.colab import drive\n",
        "import os\n",
        "\n",
        "drive.mount('/content/drive')\n",
        "\n",
        "with open('/content/drive/My Drive/cidl/hf.token', 'r') as file:\n",
        "    huggingface_token = file.read().strip()\n",
        "\n",
        "os.environ['HF_TOKEN'] = huggingface_token"
      ],
      "metadata": {
        "id": "aRrjz0eRmqjX",
        "colab": {
          "base_uri": "https://localhost:8080/"
        },
        "outputId": "9102d6a8-4841-4758-cb31-e18eab31b028"
      },
      "execution_count": null,
      "outputs": [
        {
          "output_type": "stream",
          "name": "stdout",
          "text": [
            "Drive already mounted at /content/drive; to attempt to forcibly remount, call drive.mount(\"/content/drive\", force_remount=True).\n"
          ]
        }
      ]
    },
    {
      "cell_type": "markdown",
      "source": [
        "### **Using ``Huggingface`` Tokenizer -- ``Byte-Pair Encoding (BPE) tokenizer``**"
      ],
      "metadata": {
        "id": "GeXzQfOHXstN"
      }
    },
    {
      "cell_type": "code",
      "source": [
        "from transformers import GPT2Tokenizer\n",
        "\n",
        "# Load the pre-trained GPT-2 tokenizer (which uses BPE)\n",
        "tokenizer = GPT2Tokenizer.from_pretrained('gpt2')\n",
        "\n",
        "gpt2_tokens = tokenizer.tokenize(raw_text)\n",
        "\n",
        "\n",
        "print(\"GPT2 (BPE) based tokenization: {} tokens\".format(len(gpt2_tokens)))\n",
        "print(gpt2_tokens)\n",
        "\n",
        "# Get IDs for each token\n",
        "gpt2_token_ids = tokenizer.convert_tokens_to_ids(gpt2_tokens)\n",
        "\n",
        "print(\"Token IDs:\", gpt2_token_ids)\n",
        "\n",
        "# In GPT-2, the Ġ character indicates the start of a new word following a space. So \"Ġtime\" indicates \" time\" (with a preceding space)"
      ],
      "metadata": {
        "id": "NswnE1UPYMKY",
        "colab": {
          "base_uri": "https://localhost:8080/"
        },
        "outputId": "5afe8033-d665-4756-b6e2-2a848b5e118f"
      },
      "execution_count": null,
      "outputs": [
        {
          "output_type": "stream",
          "name": "stdout",
          "text": [
            "GPT2 (BPE) based tokenization: 16 tokens\n",
            "['I', 'Ġcan', \"'t\", 'Ġbelieve', 'Ġhow', 'Ġunbelievably', 'Ġfast', 'ĠAI', 'Ġcan', 'Ġhandle', \"Ġ'\", 'BER', 'T', 'ification', \"'\", '!']\n",
            "Token IDs: [40, 460, 470, 1975, 703, 48943, 3049, 9552, 460, 5412, 705, 13246, 51, 2649, 6, 0]\n"
          ]
        }
      ]
    },
    {
      "cell_type": "markdown",
      "source": [
        "### **Using `Huggingface` Tokenizer -- `Wordpiece tokenizer`**"
      ],
      "metadata": {
        "id": "7ExyV9lfZhcf"
      }
    },
    {
      "cell_type": "code",
      "execution_count": null,
      "metadata": {
        "id": "1XxhoR8v8ahZ",
        "colab": {
          "base_uri": "https://localhost:8080/",
          "height": 199,
          "referenced_widgets": [
            "fee4bde0702f448aa5da8938e57d82f4",
            "1c73669ce1904d1bad4dd77ad84c125a",
            "a6b0c8c5f5594f13a5f6f7c3b8be07d0",
            "cba6e1471e544060a341f6f41705662c",
            "8c956a8da8d94cbfb3c525b26e063baa",
            "396197144274424397ab99edfc379ea0",
            "fb612cd142eb47f69fe1a5768f7ccc93",
            "4a0a03f9fcf94adeae27d0714b7b342b",
            "eeaaad6fb07240179be1baffaca669bd",
            "e900b55755d446faabad132479c81c9a",
            "97d5b2e525634aba8b652936d4fcea4f",
            "48dcd6d2d3854dadab587171750a4aa6",
            "a135a8157bd74b08aef00d6baf32bc38",
            "8fde10a6e45e46c482505e948cd9d8bd",
            "71f36832fb6449388f1fe1b11581645e",
            "f1163858be134ce48a78f5e01c1c138f",
            "6f3d99c6cfbe44b09f86b5c4bb0e3d87",
            "c1f170371a2e4d1b882b24ca04ef9cea",
            "8ab8657fae284656bc2ff797dc6afb0b",
            "9827c3bcff9e4ee593ce64652d5afe98",
            "126d5d5bf0d543ae9ab06e019939ee3e",
            "66b355287a704ceabe8c8239c421bec8",
            "839e07b736354ad193af402482ab948f",
            "dad5d79ea5964f93984f471544f177d4",
            "f0aa7d0c128541a5bf1d170466af02cf",
            "328f7969910e48368fedc1d9b5de163b",
            "2f5a5257e25c434dbafb1684909cc82f",
            "e6218635ee714e6ba2cf25773c5f4c54",
            "e39f7df5c90845369c485fc74cce14f2",
            "0176a17d984640fa9aadbd297a1bb8f7",
            "1d2e1f2b61f3426e83a52a53f52be3bc",
            "17249ee9e33142679dc25c3f6b6793ad",
            "5053a4f3d86d447d8f3765e9adc2e0b1",
            "73e384aa1259424c87422fa8de283d78",
            "4f6538806756442798629a6bd73bdab0",
            "b2f15fc2cbec4dd3a3bfcba8e86c7a4e",
            "8650d0aab94f42e7bc43be9acc47f968",
            "8d9515ba961842888aaf82c902020cc4",
            "258f46e8e68e4e77b4cb38075fa0f7ed",
            "7f45a7f067af48e3b04d4d587fa5ffc6",
            "f2567a3728d44c51baadc0d13d08c5fe",
            "95c91f7b6fce47f08a6eaf16e4f0f9d2",
            "8ab47536d175457a984c5fa44c0c2abd",
            "72ca5806bc87462c892b37a6528b30c8"
          ]
        },
        "outputId": "87b441dd-a258-48fc-b2ae-aa9a43e6a6ba"
      },
      "outputs": [
        {
          "output_type": "display_data",
          "data": {
            "text/plain": [
              "tokenizer_config.json:   0%|          | 0.00/48.0 [00:00<?, ?B/s]"
            ],
            "application/vnd.jupyter.widget-view+json": {
              "version_major": 2,
              "version_minor": 0,
              "model_id": "fee4bde0702f448aa5da8938e57d82f4"
            }
          },
          "metadata": {}
        },
        {
          "output_type": "display_data",
          "data": {
            "text/plain": [
              "config.json:   0%|          | 0.00/570 [00:00<?, ?B/s]"
            ],
            "application/vnd.jupyter.widget-view+json": {
              "version_major": 2,
              "version_minor": 0,
              "model_id": "48dcd6d2d3854dadab587171750a4aa6"
            }
          },
          "metadata": {}
        },
        {
          "output_type": "display_data",
          "data": {
            "text/plain": [
              "vocab.txt:   0%|          | 0.00/232k [00:00<?, ?B/s]"
            ],
            "application/vnd.jupyter.widget-view+json": {
              "version_major": 2,
              "version_minor": 0,
              "model_id": "839e07b736354ad193af402482ab948f"
            }
          },
          "metadata": {}
        },
        {
          "output_type": "display_data",
          "data": {
            "text/plain": [
              "tokenizer.json:   0%|          | 0.00/466k [00:00<?, ?B/s]"
            ],
            "application/vnd.jupyter.widget-view+json": {
              "version_major": 2,
              "version_minor": 0,
              "model_id": "73e384aa1259424c87422fa8de283d78"
            }
          },
          "metadata": {}
        },
        {
          "output_type": "stream",
          "name": "stdout",
          "text": [
            "BERT (wordpiece) based tokenization: 20 tokens\n",
            "['i', 'can', \"'\", 't', 'believe', 'how', 'un', '##bel', '##ie', '##va', '##bly', 'fast', 'ai', 'can', 'handle', \"'\", 'bert', '##ification', \"'\", '!']\n",
            "Token IDs: [1045, 2064, 1005, 1056, 2903, 2129, 4895, 8671, 2666, 3567, 6321, 3435, 9932, 2064, 5047, 1005, 14324, 9031, 1005, 999]\n"
          ]
        }
      ],
      "source": [
        "from transformers import AutoTokenizer\n",
        "\n",
        "# Load the pre-trained tokenizer (WordPiece example from BERT)\n",
        "tokenizer = AutoTokenizer.from_pretrained(\"bert-base-uncased\")\n",
        "\n",
        "bert_tokens = tokenizer.tokenize(raw_text)\n",
        "\n",
        "print(\"BERT (wordpiece) based tokenization: {} tokens\".format(len(bert_tokens)))\n",
        "print(bert_tokens)\n",
        "\n",
        "# Get IDs for each token\n",
        "bert_token_ids = tokenizer.convert_tokens_to_ids(bert_tokens)\n",
        "\n",
        "print(\"Token IDs:\", bert_token_ids)\n"
      ]
    },
    {
      "cell_type": "code",
      "source": [
        "# STEP1: TOKENIZE MY TRAINING DATA TO BUILD VOCAB\n",
        "for doc in documents:\n",
        "    for sent in break_doc_to_sentence(doc):\n",
        "        tokens = tokenize_sentence(sent)\n",
        "        for tok in tokens:\n",
        "            if not in vocab:\n",
        "                add_to_vocab(tok)\n",
        "\n",
        "# Here I have a vocab [{token -> ID}]\n",
        "token_count = len(vocab)   # 370\n",
        "\n",
        "# STEP2: BUILD ONE-HOT-ENCODING EMBEDDINGS FOR EACH TOKEN IN MY VOCAB\n",
        "emb = np.zero(token_count, token_count)\n",
        "\n",
        "for tok,id in vocab.items():\n",
        "    emb[id,id] = 1\n",
        "\n",
        "(vocab, emb)\n",
        "\n",
        "\"Jagadish asked a good question\"\n",
        "\n",
        "tokens = tokenize(\"Jagadish asked a good question\")\n",
        "for tok in tokens:\n",
        "    tokid = vocab.get_token_id(tok) # 5\n",
        "    toke = emb[tokid] # [0, 0, 0, 0, 1, 0, 0, ...., 0]\n"
      ],
      "metadata": {
        "id": "vxQ-77Fm8if7"
      },
      "execution_count": null,
      "outputs": []
    },
    {
      "cell_type": "markdown",
      "source": [
        "# **Using ``spaCy`` Library**\n",
        "\n",
        "[https://spacy.io/](https://spacy.io/)\n",
        "\n",
        "spaCy is a high-performance NLP library for production use cases. It's tokenizer is built on top of a rules engine. The following rules are used:\n",
        "\n",
        "1. **Prefix, Suffix, and Infix Handling**\n",
        "    - Prefix rule: \\$1000 will be tokenized as [\"$\", \"1000\"].\n",
        "    - Suffix rule: 'happy.' will be tokenized as [\"happy\", \".\"].\n",
        "    - Infix rule: 3.14 will remain as [\"3.14\"], but 'well-known' will be tokenized as [\"well\", \"-\", \"known\"].\n",
        "2. **Whitespace Rule (if there is a whitespace a new token is considered)**\n",
        "3. **Exceptions**\n",
        "    - Contractions: \"don't\" will be split into [\"do\", \"n't\"].\n",
        "    - Abbreviations: Common abbreviations like \"U.S.\" treated as a single token instead of splitting them.\n",
        "4. **URLs, Emails, and Special Characters**\n",
        "    - URLs like http://spacy.io are treated as a single token.\n",
        "    - Emails like myname@gmail.com are also treated as a single token.\n",
        "    - Emoji or special characters (like 😊) are kept as individual tokens.\n",
        "5. **Punctuation Rules**\n",
        "    - \"hello.\" becomes [\"hello\", \".\"]\n",
        "    - \"(hello)\" becomes [\"(\", \"hello\", \")\"]"
      ],
      "metadata": {
        "id": "khG6WTYwf1XY"
      }
    },
    {
      "cell_type": "code",
      "source": [
        "!pip install spacy\n",
        "!python -m spacy download en_core_web_sm"
      ],
      "metadata": {
        "id": "--WTRjLygDSi",
        "colab": {
          "base_uri": "https://localhost:8080/"
        },
        "outputId": "fff13efb-03b7-4aa2-e27a-c345e0a98490"
      },
      "execution_count": null,
      "outputs": [
        {
          "output_type": "stream",
          "name": "stdout",
          "text": [
            "Requirement already satisfied: spacy in /usr/local/lib/python3.11/dist-packages (3.8.4)\n",
            "Requirement already satisfied: spacy-legacy<3.1.0,>=3.0.11 in /usr/local/lib/python3.11/dist-packages (from spacy) (3.0.12)\n",
            "Requirement already satisfied: spacy-loggers<2.0.0,>=1.0.0 in /usr/local/lib/python3.11/dist-packages (from spacy) (1.0.5)\n",
            "Requirement already satisfied: murmurhash<1.1.0,>=0.28.0 in /usr/local/lib/python3.11/dist-packages (from spacy) (1.0.12)\n",
            "Requirement already satisfied: cymem<2.1.0,>=2.0.2 in /usr/local/lib/python3.11/dist-packages (from spacy) (2.0.11)\n",
            "Requirement already satisfied: preshed<3.1.0,>=3.0.2 in /usr/local/lib/python3.11/dist-packages (from spacy) (3.0.9)\n",
            "Requirement already satisfied: thinc<8.4.0,>=8.3.4 in /usr/local/lib/python3.11/dist-packages (from spacy) (8.3.4)\n",
            "Requirement already satisfied: wasabi<1.2.0,>=0.9.1 in /usr/local/lib/python3.11/dist-packages (from spacy) (1.1.3)\n",
            "Requirement already satisfied: srsly<3.0.0,>=2.4.3 in /usr/local/lib/python3.11/dist-packages (from spacy) (2.5.1)\n",
            "Requirement already satisfied: catalogue<2.1.0,>=2.0.6 in /usr/local/lib/python3.11/dist-packages (from spacy) (2.0.10)\n",
            "Requirement already satisfied: weasel<0.5.0,>=0.1.0 in /usr/local/lib/python3.11/dist-packages (from spacy) (0.4.1)\n",
            "Requirement already satisfied: typer<1.0.0,>=0.3.0 in /usr/local/lib/python3.11/dist-packages (from spacy) (0.15.2)\n",
            "Requirement already satisfied: tqdm<5.0.0,>=4.38.0 in /usr/local/lib/python3.11/dist-packages (from spacy) (4.67.1)\n",
            "Requirement already satisfied: numpy>=1.19.0 in /usr/local/lib/python3.11/dist-packages (from spacy) (1.26.4)\n",
            "Requirement already satisfied: requests<3.0.0,>=2.13.0 in /usr/local/lib/python3.11/dist-packages (from spacy) (2.32.3)\n",
            "Requirement already satisfied: pydantic!=1.8,!=1.8.1,<3.0.0,>=1.7.4 in /usr/local/lib/python3.11/dist-packages (from spacy) (2.10.6)\n",
            "Requirement already satisfied: jinja2 in /usr/local/lib/python3.11/dist-packages (from spacy) (3.1.6)\n",
            "Requirement already satisfied: setuptools in /usr/local/lib/python3.11/dist-packages (from spacy) (75.1.0)\n",
            "Requirement already satisfied: packaging>=20.0 in /usr/local/lib/python3.11/dist-packages (from spacy) (24.2)\n",
            "Requirement already satisfied: langcodes<4.0.0,>=3.2.0 in /usr/local/lib/python3.11/dist-packages (from spacy) (3.5.0)\n",
            "Requirement already satisfied: language-data>=1.2 in /usr/local/lib/python3.11/dist-packages (from langcodes<4.0.0,>=3.2.0->spacy) (1.3.0)\n",
            "Requirement already satisfied: annotated-types>=0.6.0 in /usr/local/lib/python3.11/dist-packages (from pydantic!=1.8,!=1.8.1,<3.0.0,>=1.7.4->spacy) (0.7.0)\n",
            "Requirement already satisfied: pydantic-core==2.27.2 in /usr/local/lib/python3.11/dist-packages (from pydantic!=1.8,!=1.8.1,<3.0.0,>=1.7.4->spacy) (2.27.2)\n",
            "Requirement already satisfied: typing-extensions>=4.12.2 in /usr/local/lib/python3.11/dist-packages (from pydantic!=1.8,!=1.8.1,<3.0.0,>=1.7.4->spacy) (4.12.2)\n",
            "Requirement already satisfied: charset-normalizer<4,>=2 in /usr/local/lib/python3.11/dist-packages (from requests<3.0.0,>=2.13.0->spacy) (3.4.1)\n",
            "Requirement already satisfied: idna<4,>=2.5 in /usr/local/lib/python3.11/dist-packages (from requests<3.0.0,>=2.13.0->spacy) (3.10)\n",
            "Requirement already satisfied: urllib3<3,>=1.21.1 in /usr/local/lib/python3.11/dist-packages (from requests<3.0.0,>=2.13.0->spacy) (2.3.0)\n",
            "Requirement already satisfied: certifi>=2017.4.17 in /usr/local/lib/python3.11/dist-packages (from requests<3.0.0,>=2.13.0->spacy) (2025.1.31)\n",
            "Requirement already satisfied: blis<1.3.0,>=1.2.0 in /usr/local/lib/python3.11/dist-packages (from thinc<8.4.0,>=8.3.4->spacy) (1.2.0)\n",
            "Requirement already satisfied: confection<1.0.0,>=0.0.1 in /usr/local/lib/python3.11/dist-packages (from thinc<8.4.0,>=8.3.4->spacy) (0.1.5)\n",
            "Requirement already satisfied: click>=8.0.0 in /usr/local/lib/python3.11/dist-packages (from typer<1.0.0,>=0.3.0->spacy) (8.1.8)\n",
            "Requirement already satisfied: shellingham>=1.3.0 in /usr/local/lib/python3.11/dist-packages (from typer<1.0.0,>=0.3.0->spacy) (1.5.4)\n",
            "Requirement already satisfied: rich>=10.11.0 in /usr/local/lib/python3.11/dist-packages (from typer<1.0.0,>=0.3.0->spacy) (13.9.4)\n",
            "Requirement already satisfied: cloudpathlib<1.0.0,>=0.7.0 in /usr/local/lib/python3.11/dist-packages (from weasel<0.5.0,>=0.1.0->spacy) (0.21.0)\n",
            "Requirement already satisfied: smart-open<8.0.0,>=5.2.1 in /usr/local/lib/python3.11/dist-packages (from weasel<0.5.0,>=0.1.0->spacy) (7.1.0)\n",
            "Requirement already satisfied: MarkupSafe>=2.0 in /usr/local/lib/python3.11/dist-packages (from jinja2->spacy) (3.0.2)\n",
            "Requirement already satisfied: marisa-trie>=1.1.0 in /usr/local/lib/python3.11/dist-packages (from language-data>=1.2->langcodes<4.0.0,>=3.2.0->spacy) (1.2.1)\n",
            "Requirement already satisfied: markdown-it-py>=2.2.0 in /usr/local/lib/python3.11/dist-packages (from rich>=10.11.0->typer<1.0.0,>=0.3.0->spacy) (3.0.0)\n",
            "Requirement already satisfied: pygments<3.0.0,>=2.13.0 in /usr/local/lib/python3.11/dist-packages (from rich>=10.11.0->typer<1.0.0,>=0.3.0->spacy) (2.18.0)\n",
            "Requirement already satisfied: wrapt in /usr/local/lib/python3.11/dist-packages (from smart-open<8.0.0,>=5.2.1->weasel<0.5.0,>=0.1.0->spacy) (1.17.2)\n",
            "Requirement already satisfied: mdurl~=0.1 in /usr/local/lib/python3.11/dist-packages (from markdown-it-py>=2.2.0->rich>=10.11.0->typer<1.0.0,>=0.3.0->spacy) (0.1.2)\n",
            "Collecting en-core-web-sm==3.8.0\n",
            "  Downloading https://github.com/explosion/spacy-models/releases/download/en_core_web_sm-3.8.0/en_core_web_sm-3.8.0-py3-none-any.whl (12.8 MB)\n",
            "\u001b[2K     \u001b[90m━━━━━━━━━━━━━━━━━━━━━━━━━━━━━━━━━━━━━━━━\u001b[0m \u001b[32m12.8/12.8 MB\u001b[0m \u001b[31m89.7 MB/s\u001b[0m eta \u001b[36m0:00:00\u001b[0m\n",
            "\u001b[?25h\u001b[38;5;2m✔ Download and installation successful\u001b[0m\n",
            "You can now load the package via spacy.load('en_core_web_sm')\n",
            "\u001b[38;5;3m⚠ Restart to reload dependencies\u001b[0m\n",
            "If you are in a Jupyter or Colab notebook, you may need to restart Python in\n",
            "order to load all the package's dependencies. You can do this by selecting the\n",
            "'Restart kernel' or 'Restart runtime' option.\n"
          ]
        }
      ]
    },
    {
      "cell_type": "code",
      "source": [
        "import spacy\n",
        "\n",
        "# Load the spaCy language model\n",
        "nlp = spacy.load(\"en_core_web_sm\")\n",
        "\n",
        "# Process the text using the spaCy pipeline. This is tokenization happens.\n",
        "doc = nlp(raw_text)\n",
        "\n",
        "# extract token texts\n",
        "spacy_tokens = [token.text for token in doc]\n",
        "\n",
        "print(\"spaCy based tokenization: {} tokens\".format(len(spacy_tokens)))\n",
        "print(spacy_tokens)"
      ],
      "metadata": {
        "id": "_Vo3cF_HgNwJ",
        "colab": {
          "base_uri": "https://localhost:8080/"
        },
        "outputId": "dddbdb67-d687-46ba-d21b-0124cb9fc341"
      },
      "execution_count": null,
      "outputs": [
        {
          "output_type": "stream",
          "name": "stdout",
          "text": [
            "spaCy based tokenization: 14 tokens\n",
            "['I', 'ca', \"n't\", 'believe', 'how', 'unbelievably', 'fast', 'AI', 'can', 'handle', \"'\", 'BERTification', \"'\", '!']\n"
          ]
        }
      ]
    },
    {
      "cell_type": "code",
      "source": [
        "# Get token IDs by accessing the token's lexeme hash\n",
        "# Lexemes are part of spaCy’s efficient system to avoid storing repeated info\n",
        "spacy_lexeme = [token.vocab.strings[token.text] for token in doc]\n",
        "\n",
        "print(\"Token lexeme:\", spacy_lexeme)"
      ],
      "metadata": {
        "id": "eG7CrmTDjduU",
        "colab": {
          "base_uri": "https://localhost:8080/"
        },
        "outputId": "ac48ff37-4bdf-4bdf-e88d-912d19f0320f"
      },
      "execution_count": null,
      "outputs": [
        {
          "output_type": "stream",
          "name": "stdout",
          "text": [
            "Token lexeme: [4690420944186131903, 13913074996085095135, 2043519015752540944, 7936246238499659209, 16331095434822636218, 11010712746389516034, 1826119438242743099, 5530044837203964789, 6635067063807956629, 8691213008739214150, 11221368173670222813, 10580551838355052375, 11221368173670222813, 17494803046312582752]\n"
          ]
        }
      ]
    },
    {
      "cell_type": "code",
      "source": [
        "# Iterate through tokens and print important attributes for each token\n",
        "for i,token in enumerate(doc):\n",
        "    print(f\"[{i}] Token: {token.text}\")       # The actual text of the token.\n",
        "    print(f\"  Lemma: {token.lemma_}\")         # The lemma (root form) of the token\n",
        "    print(f\"  Part of Speech: {token.pos_}\")  # Part of speech of the token (e.g., NOUN, VERB)\n",
        "    print(f\"  Dependency: {token.dep_}\")      # Syntactic dependency label (e.g., nsubj for subject)\n",
        "    print(f\"  Is Stop Word: {token.is_stop}\") # Is the token a stop word\n",
        "    print(f\"  Is Alpha: {token.is_alpha}\")    # Does token consists only of alphabetic characters\n",
        "    print(f\"  Shape: {token.shape_}\")         # Shape of the token, e.g., Xxxx for capitalized words\n",
        "    print(f\"  Is Punctuation: {token.is_punct}\") # Is the token a punctuation\n",
        "    print(f\"  Is Space: {token.is_space}\")    # Is the token a space character\n",
        "    print(\"-\" * 30)"
      ],
      "metadata": {
        "id": "eAReyF9bk6Mu",
        "colab": {
          "base_uri": "https://localhost:8080/"
        },
        "outputId": "d5ba0da8-42fe-4e93-c9ca-3c8a02982084"
      },
      "execution_count": null,
      "outputs": [
        {
          "output_type": "stream",
          "name": "stdout",
          "text": [
            "[0] Token: I\n",
            "  Lemma: I\n",
            "  Part of Speech: PRON\n",
            "  Dependency: nsubj\n",
            "  Is Stop Word: True\n",
            "  Is Alpha: True\n",
            "  Shape: X\n",
            "  Is Punctuation: False\n",
            "  Is Space: False\n",
            "------------------------------\n",
            "[1] Token: ca\n",
            "  Lemma: can\n",
            "  Part of Speech: AUX\n",
            "  Dependency: aux\n",
            "  Is Stop Word: True\n",
            "  Is Alpha: True\n",
            "  Shape: xx\n",
            "  Is Punctuation: False\n",
            "  Is Space: False\n",
            "------------------------------\n",
            "[2] Token: n't\n",
            "  Lemma: not\n",
            "  Part of Speech: PART\n",
            "  Dependency: neg\n",
            "  Is Stop Word: True\n",
            "  Is Alpha: False\n",
            "  Shape: x'x\n",
            "  Is Punctuation: False\n",
            "  Is Space: False\n",
            "------------------------------\n",
            "[3] Token: believe\n",
            "  Lemma: believe\n",
            "  Part of Speech: VERB\n",
            "  Dependency: ROOT\n",
            "  Is Stop Word: False\n",
            "  Is Alpha: True\n",
            "  Shape: xxxx\n",
            "  Is Punctuation: False\n",
            "  Is Space: False\n",
            "------------------------------\n",
            "[4] Token: how\n",
            "  Lemma: how\n",
            "  Part of Speech: SCONJ\n",
            "  Dependency: advmod\n",
            "  Is Stop Word: True\n",
            "  Is Alpha: True\n",
            "  Shape: xxx\n",
            "  Is Punctuation: False\n",
            "  Is Space: False\n",
            "------------------------------\n",
            "[5] Token: unbelievably\n",
            "  Lemma: unbelievably\n",
            "  Part of Speech: ADV\n",
            "  Dependency: advmod\n",
            "  Is Stop Word: False\n",
            "  Is Alpha: True\n",
            "  Shape: xxxx\n",
            "  Is Punctuation: False\n",
            "  Is Space: False\n",
            "------------------------------\n",
            "[6] Token: fast\n",
            "  Lemma: fast\n",
            "  Part of Speech: ADJ\n",
            "  Dependency: advmod\n",
            "  Is Stop Word: False\n",
            "  Is Alpha: True\n",
            "  Shape: xxxx\n",
            "  Is Punctuation: False\n",
            "  Is Space: False\n",
            "------------------------------\n",
            "[7] Token: AI\n",
            "  Lemma: AI\n",
            "  Part of Speech: PROPN\n",
            "  Dependency: nsubj\n",
            "  Is Stop Word: False\n",
            "  Is Alpha: True\n",
            "  Shape: XX\n",
            "  Is Punctuation: False\n",
            "  Is Space: False\n",
            "------------------------------\n",
            "[8] Token: can\n",
            "  Lemma: can\n",
            "  Part of Speech: AUX\n",
            "  Dependency: aux\n",
            "  Is Stop Word: True\n",
            "  Is Alpha: True\n",
            "  Shape: xxx\n",
            "  Is Punctuation: False\n",
            "  Is Space: False\n",
            "------------------------------\n",
            "[9] Token: handle\n",
            "  Lemma: handle\n",
            "  Part of Speech: VERB\n",
            "  Dependency: ccomp\n",
            "  Is Stop Word: False\n",
            "  Is Alpha: True\n",
            "  Shape: xxxx\n",
            "  Is Punctuation: False\n",
            "  Is Space: False\n",
            "------------------------------\n",
            "[10] Token: '\n",
            "  Lemma: '\n",
            "  Part of Speech: PUNCT\n",
            "  Dependency: punct\n",
            "  Is Stop Word: False\n",
            "  Is Alpha: False\n",
            "  Shape: '\n",
            "  Is Punctuation: True\n",
            "  Is Space: False\n",
            "------------------------------\n",
            "[11] Token: BERTification\n",
            "  Lemma: bertification\n",
            "  Part of Speech: NOUN\n",
            "  Dependency: dobj\n",
            "  Is Stop Word: False\n",
            "  Is Alpha: True\n",
            "  Shape: XXXXxxxx\n",
            "  Is Punctuation: False\n",
            "  Is Space: False\n",
            "------------------------------\n",
            "[12] Token: '\n",
            "  Lemma: '\n",
            "  Part of Speech: PUNCT\n",
            "  Dependency: punct\n",
            "  Is Stop Word: False\n",
            "  Is Alpha: False\n",
            "  Shape: '\n",
            "  Is Punctuation: True\n",
            "  Is Space: False\n",
            "------------------------------\n",
            "[13] Token: !\n",
            "  Lemma: !\n",
            "  Part of Speech: PUNCT\n",
            "  Dependency: punct\n",
            "  Is Stop Word: False\n",
            "  Is Alpha: False\n",
            "  Shape: !\n",
            "  Is Punctuation: True\n",
            "  Is Space: False\n",
            "------------------------------\n"
          ]
        }
      ]
    }
  ]
}